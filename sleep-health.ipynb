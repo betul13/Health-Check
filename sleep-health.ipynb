{
 "cells": [
  {
   "cell_type": "code",
   "execution_count": 1,
   "metadata": {},
   "outputs": [],
   "source": [
    "import joblib\n",
    "import pandas as pd\n",
    "import seaborn as sns\n",
    "from matplotlib import pyplot as plt\n",
    "from sklearn.ensemble import RandomForestClassifier, GradientBoostingClassifier, VotingClassifier, AdaBoostClassifier\n",
    "from sklearn.linear_model import LogisticRegression\n",
    "from sklearn.model_selection import cross_validate, GridSearchCV,train_test_split,cross_val_score\n",
    "from sklearn.neighbors import KNeighborsClassifier\n",
    "from sklearn.svm import SVC\n",
    "from sklearn.tree import DecisionTreeClassifier\n",
    "from sklearn.preprocessing import StandardScaler,OneHotEncoder\n",
    "\n",
    "from xgboost import XGBClassifier\n",
    "from lightgbm import LGBMClassifier\n",
    "from catboost import CatBoostClassifier\n",
    "from sklearn.preprocessing import LabelEncoder,OrdinalEncoder\n",
    "import csv\n",
    "from sklearn.metrics import accuracy_score, f1_score, roc_auc_score,make_scorer\n",
    "from sklearn.model_selection import cross_val_predict\n",
    "from sklearn.metrics import confusion_matrix, classification_report"
   ]
  },
  {
   "cell_type": "code",
   "execution_count": 2,
   "metadata": {},
   "outputs": [],
   "source": [
    "pd.set_option('display.max_columns', None)\n",
    "pd.set_option('display.width', 500)"
   ]
  },
  {
   "cell_type": "code",
   "execution_count": 3,
   "metadata": {},
   "outputs": [],
   "source": [
    "data = pd.read_csv(r\"C:\\Users\\bett0\\sleeping-sickness-prediction\\Sleep_health_and_lifestyle_dataset.csv\")"
   ]
  },
  {
   "cell_type": "markdown",
   "metadata": {},
   "source": [
    "Cinsiyet: Bireyin cinsiyeti (örneğin, Erkek, Kadın).\n",
    "Yaş: Bireyin yaşı.\n",
    "Meslek: Kişinin işi veya mesleği.\n",
    "Uyku Süresi: Kişinin gecede ortalama uyku süresi.\n",
    "Uyku Kalitesi: Uykunun kalitesini belirten bir değer.\n",
    "Fiziksel Aktivite Seviyesi: Kişinin fiziksel aktivite düzeyi.\n",
    "Stres Seviyesi: Bireyin stres seviyesi.\n",
    "BMI Kategorisi: Beden kitle indeksi (BMI) kategorisi (örneğin, Normal, Aşırı Kilolu, Obez).\n",
    "Kan Basıncı: Kişinin kan basıncı değeri.\n",
    "Kalp Atış Hızı: Kişinin kalp atış hızı.\n",
    "Günlük Adımlar: Kişinin günlük attığı adım sayısı.\n",
    "Uyku Bozukluğu: Uyku bozukluğu olup olmadığını belirten bir değer."
   ]
  },
  {
   "cell_type": "code",
   "execution_count": 4,
   "metadata": {},
   "outputs": [
    {
     "name": "stdout",
     "output_type": "stream",
     "text": [
      "##################### Shape #####################\n",
      "(374, 13)\n",
      "##################### Types #####################\n",
      "Person ID                    int64\n",
      "Gender                      object\n",
      "Age                          int64\n",
      "Occupation                  object\n",
      "Sleep Duration             float64\n",
      "Quality of Sleep             int64\n",
      "Physical Activity Level      int64\n",
      "Stress Level                 int64\n",
      "BMI Category                object\n",
      "Blood Pressure              object\n",
      "Heart Rate                   int64\n",
      "Daily Steps                  int64\n",
      "Sleep Disorder              object\n",
      "dtype: object\n",
      "##################### Head #####################\n",
      "   Person ID Gender  Age            Occupation  Sleep Duration  Quality of Sleep  Physical Activity Level  Stress Level BMI Category Blood Pressure  Heart Rate  Daily Steps Sleep Disorder\n",
      "0          1   Male   27     Software Engineer             6.1                 6                       42             6   Overweight         126/83          77         4200            NaN\n",
      "1          2   Male   28                Doctor             6.2                 6                       60             8       Normal         125/80          75        10000            NaN\n",
      "2          3   Male   28                Doctor             6.2                 6                       60             8       Normal         125/80          75        10000            NaN\n",
      "3          4   Male   28  Sales Representative             5.9                 4                       30             8        Obese         140/90          85         3000    Sleep Apnea\n",
      "4          5   Male   28  Sales Representative             5.9                 4                       30             8        Obese         140/90          85         3000    Sleep Apnea\n",
      "##################### Tail #####################\n",
      "     Person ID  Gender  Age Occupation  Sleep Duration  Quality of Sleep  Physical Activity Level  Stress Level BMI Category Blood Pressure  Heart Rate  Daily Steps Sleep Disorder\n",
      "369        370  Female   59      Nurse             8.1                 9                       75             3   Overweight         140/95          68         7000    Sleep Apnea\n",
      "370        371  Female   59      Nurse             8.0                 9                       75             3   Overweight         140/95          68         7000    Sleep Apnea\n",
      "371        372  Female   59      Nurse             8.1                 9                       75             3   Overweight         140/95          68         7000    Sleep Apnea\n",
      "372        373  Female   59      Nurse             8.1                 9                       75             3   Overweight         140/95          68         7000    Sleep Apnea\n",
      "373        374  Female   59      Nurse             8.1                 9                       75             3   Overweight         140/95          68         7000    Sleep Apnea\n",
      "##################### NA #####################\n",
      "Person ID                    0\n",
      "Gender                       0\n",
      "Age                          0\n",
      "Occupation                   0\n",
      "Sleep Duration               0\n",
      "Quality of Sleep             0\n",
      "Physical Activity Level      0\n",
      "Stress Level                 0\n",
      "BMI Category                 0\n",
      "Blood Pressure               0\n",
      "Heart Rate                   0\n",
      "Daily Steps                  0\n",
      "Sleep Disorder             219\n",
      "dtype: int64\n"
     ]
    }
   ],
   "source": [
    "\n",
    "################################################\n",
    "# 1. Exploratory Data Analysis\n",
    "################################################\n",
    "\n",
    "def check_df(dataframe, head=5):\n",
    "    print(\"##################### Shape #####################\")\n",
    "    print(dataframe.shape)\n",
    "    print(\"##################### Types #####################\")\n",
    "    print(dataframe.dtypes)\n",
    "    print(\"##################### Head #####################\")\n",
    "    print(dataframe.head(head))\n",
    "    print(\"##################### Tail #####################\")\n",
    "    print(dataframe.tail(head))\n",
    "    print(\"##################### NA #####################\")\n",
    "    print(dataframe.isnull().sum())\n",
    "\n",
    "\n",
    "check_df(data)"
   ]
  },
  {
   "cell_type": "code",
   "execution_count": 5,
   "metadata": {},
   "outputs": [
    {
     "data": {
      "text/plain": [
       "Person ID                  0\n",
       "Gender                     0\n",
       "Age                        0\n",
       "Occupation                 0\n",
       "Sleep Duration             0\n",
       "Quality of Sleep           0\n",
       "Physical Activity Level    0\n",
       "Stress Level               0\n",
       "BMI Category               0\n",
       "Blood Pressure             0\n",
       "Heart Rate                 0\n",
       "Daily Steps                0\n",
       "Sleep Disorder             0\n",
       "dtype: int64"
      ]
     },
     "execution_count": 5,
     "metadata": {},
     "output_type": "execute_result"
    }
   ],
   "source": [
    "data['Sleep Disorder'] = data['Sleep Disorder'].fillna('No')\n",
    "data.isnull().sum()"
   ]
  },
  {
   "cell_type": "code",
   "execution_count": 6,
   "metadata": {},
   "outputs": [],
   "source": [
    "def cat_summary(dataframe, col_name, plot=False):\n",
    "    print(pd.DataFrame({col_name: dataframe[col_name].value_counts(),\n",
    "                        \"Ratio\": 100 * dataframe[col_name].value_counts() / len(dataframe)}))\n",
    "    print(\"##########################################\")\n",
    "    if plot:\n",
    "        sns.countplot(x=dataframe[col_name], data=dataframe)\n",
    "        plt.show(block=True)\n",
    "\n",
    "def num_summary(dataframe, numerical_col, plot=False):\n",
    "    quantiles = [0.05, 0.10, 0.20, 0.30, 0.40, 0.50, 0.60, 0.70, 0.80, 0.90, 0.95, 0.99]\n",
    "    print(dataframe[numerical_col].describe(quantiles).T)\n",
    "\n",
    "    if plot:\n",
    "        dataframe[numerical_col].hist(bins=20)\n",
    "        plt.xlabel(numerical_col)\n",
    "        plt.title(numerical_col)\n",
    "        plt.show(block=True)\n",
    "\n",
    "def target_summary_with_num(dataframe, target, numerical_col):\n",
    "    print(dataframe.groupby(target).agg({numerical_col: \"mean\"}), end=\"\\n\\n\\n\")\n",
    "\n",
    "def target_summary_with_cat(dataframe, target, categorical_col):\n",
    "    print(pd.DataFrame({\"TARGET_MEAN\": dataframe.groupby(categorical_col)[target].mean()}), end=\"\\n\\n\\n\")\n"
   ]
  },
  {
   "cell_type": "code",
   "execution_count": 7,
   "metadata": {},
   "outputs": [],
   "source": [
    "def grab_col_names(dataframe, cat_th=5, car_th=20):\n",
    "    \"\"\"\n",
    "\n",
    "    Veri setindeki kategorik, numerik ve kategorik fakat kardinal değişkenlerin isimlerini verir.\n",
    "    Not: Kategorik değişkenlerin içerisine numerik görünümlü kategorik değişkenler de dahildir.\n",
    "\n",
    "    Parameters\n",
    "    ------\n",
    "        dataframe: dataframe\n",
    "                Değişken isimleri alınmak istenilen dataframe\n",
    "        cat_th: int, optional\n",
    "                numerik fakat kategorik olan değişkenler için sınıf eşik değeri\n",
    "        car_th: int, optinal\n",
    "                kategorik fakat kardinal değişkenler için sınıf eşik değeri\n",
    "\n",
    "    Returns\n",
    "    ------\n",
    "        cat_cols: list\n",
    "                Kategorik değişken listesi\n",
    "        num_cols: list\n",
    "                Numerik değişken listesi\n",
    "        cat_but_car: list\n",
    "                Kategorik görünümlü kardinal değişken listesi\n",
    "\n",
    "    Examples\n",
    "    ------\n",
    "        import seaborn as sns\n",
    "        df = sns.load_dataset(\"iris\")\n",
    "        print(grab_col_names(df))\n",
    "\n",
    "\n",
    "    Notes\n",
    "    ------\n",
    "        cat_cols + num_cols + cat_but_car = toplam değişken sayısı\n",
    "        num_but_cat cat_cols'un içerisinde.\n",
    "        Return olan 3 liste toplamı toplam değişken sayısına eşittir: cat_cols + num_cols + cat_but_car = değişken sayısı\n",
    "\n",
    "    \"\"\"\n",
    "\n",
    "    # cat_cols, cat_but_car\n",
    "    cat_cols = [col for col in dataframe.columns if dataframe[col].dtypes == \"O\"]\n",
    "    num_but_cat = [col for col in dataframe.columns if dataframe[col].nunique() < cat_th and\n",
    "                   dataframe[col].dtypes != \"O\"]\n",
    "    cat_but_car = [col for col in dataframe.columns if dataframe[col].nunique() > car_th and\n",
    "                   dataframe[col].dtypes == \"O\"]\n",
    "    cat_cols = cat_cols + num_but_cat\n",
    "    cat_cols = [col for col in cat_cols if col not in cat_but_car]\n",
    "\n",
    "    # num_cols\n",
    "    num_cols = [col for col in dataframe.columns if dataframe[col].dtypes != \"O\"]\n",
    "    num_cols = [col for col in num_cols if col not in num_but_cat]\n",
    "\n",
    "    # print(f\"Observations: {dataframe.shape[0]}\")\n",
    "    # print(f\"Variables: {dataframe.shape[1]}\")\n",
    "    # print(f'cat_cols: {len(cat_cols)}')\n",
    "    # print(f'num_cols: {len(num_cols)}')\n",
    "    # print(f'cat_but_car: {len(cat_but_car)}')\n",
    "    # print(f'num_but_cat: {len(num_but_cat)}')\n",
    "    return cat_cols, num_cols, cat_but_car\n"
   ]
  },
  {
   "cell_type": "code",
   "execution_count": 8,
   "metadata": {},
   "outputs": [],
   "source": [
    "cat_cols, num_cols, cat_but_car = grab_col_names(data)\n",
    "\n",
    "num_cols = [col for col in num_cols if col != \"Person ID\"]\n"
   ]
  },
  {
   "cell_type": "code",
   "execution_count": 9,
   "metadata": {},
   "outputs": [
    {
     "name": "stdout",
     "output_type": "stream",
     "text": [
      "        Gender      Ratio\n",
      "Gender                   \n",
      "Male       189  50.534759\n",
      "Female     185  49.465241\n",
      "##########################################\n",
      "                      Occupation      Ratio\n",
      "Occupation                                 \n",
      "Nurse                         73  19.518717\n",
      "Doctor                        71  18.983957\n",
      "Engineer                      63  16.844920\n",
      "Lawyer                        47  12.566845\n",
      "Teacher                       40  10.695187\n",
      "Accountant                    37   9.893048\n",
      "Salesperson                   32   8.556150\n",
      "Software Engineer              4   1.069519\n",
      "Scientist                      4   1.069519\n",
      "Sales Representative           2   0.534759\n",
      "Manager                        1   0.267380\n",
      "##########################################\n",
      "               BMI Category      Ratio\n",
      "BMI Category                          \n",
      "Normal                  195  52.139037\n",
      "Overweight              148  39.572193\n",
      "Normal Weight            21   5.614973\n",
      "Obese                    10   2.673797\n",
      "##########################################\n",
      "                Sleep Disorder      Ratio\n",
      "Sleep Disorder                           \n",
      "No                         219  58.556150\n",
      "Sleep Apnea                 78  20.855615\n",
      "Insomnia                    77  20.588235\n",
      "##########################################\n",
      "count    374.000000\n",
      "mean      42.184492\n",
      "std        8.673133\n",
      "min       27.000000\n",
      "5%        29.650000\n",
      "10%       31.000000\n",
      "20%       33.000000\n",
      "30%       37.000000\n",
      "40%       39.000000\n",
      "50%       43.000000\n",
      "60%       44.000000\n",
      "70%       45.000000\n",
      "80%       51.000000\n",
      "90%       54.000000\n",
      "95%       58.000000\n",
      "99%       59.000000\n",
      "max       59.000000\n",
      "Name: Age, dtype: float64\n"
     ]
    },
    {
     "data": {
      "image/png": "[encoded data removed]",
      "text/plain": [
       "<Figure size 640x480 with 1 Axes>"
      ]
     },
     "metadata": {},
     "output_type": "display_data"
    },
    {
     "name": "stdout",
     "output_type": "stream",
     "text": [
      "count    374.000000\n",
      "mean       7.132086\n",
      "std        0.795657\n",
      "min        5.800000\n",
      "5%         6.000000\n",
      "10%        6.100000\n",
      "20%        6.300000\n",
      "30%        6.500000\n",
      "40%        6.800000\n",
      "50%        7.200000\n",
      "60%        7.380000\n",
      "70%        7.700000\n",
      "80%        7.900000\n",
      "90%        8.200000\n",
      "95%        8.400000\n",
      "99%        8.500000\n",
      "max        8.500000\n",
      "Name: Sleep Duration, dtype: float64\n"
     ]
    },
    {
     "data": {
      "image/png": "[encoded data removed]",
      "text/plain": [
       "<Figure size 640x480 with 1 Axes>"
      ]
     },
     "metadata": {},
     "output_type": "display_data"
    },
    {
     "name": "stdout",
     "output_type": "stream",
     "text": [
      "count    374.000000\n",
      "mean       7.312834\n",
      "std        1.196956\n",
      "min        4.000000\n",
      "5%         6.000000\n",
      "10%        6.000000\n",
      "20%        6.000000\n",
      "30%        6.000000\n",
      "40%        7.000000\n",
      "50%        7.000000\n",
      "60%        8.000000\n",
      "70%        8.000000\n",
      "80%        8.000000\n",
      "90%        9.000000\n",
      "95%        9.000000\n",
      "99%        9.000000\n",
      "max        9.000000\n",
      "Name: Quality of Sleep, dtype: float64\n"
     ]
    },
    {
     "data": {
      "image/png": "[encoded data removed]",
      "text/plain": [
       "<Figure size 640x480 with 1 Axes>"
      ]
     },
     "metadata": {},
     "output_type": "display_data"
    },
    {
     "name": "stdout",
     "output_type": "stream",
     "text": [
      "count    374.000000\n",
      "mean      59.171123\n",
      "std       20.830804\n",
      "min       30.000000\n",
      "5%        30.000000\n",
      "10%       30.000000\n",
      "20%       40.000000\n",
      "30%       45.000000\n",
      "40%       45.400000\n",
      "50%       60.000000\n",
      "60%       60.000000\n",
      "70%       75.000000\n",
      "80%       75.000000\n",
      "90%       90.000000\n",
      "95%       90.000000\n",
      "99%       90.000000\n",
      "max       90.000000\n",
      "Name: Physical Activity Level, dtype: float64\n"
     ]
    },
    {
     "data": {
      "image/png": "[encoded data removed]",
      "text/plain": [
       "<Figure size 640x480 with 1 Axes>"
      ]
     },
     "metadata": {},
     "output_type": "display_data"
    },
    {
     "name": "stdout",
     "output_type": "stream",
     "text": [
      "count    374.000000\n",
      "mean       5.385027\n",
      "std        1.774526\n",
      "min        3.000000\n",
      "5%         3.000000\n",
      "10%        3.000000\n",
      "20%        4.000000\n",
      "30%        4.000000\n",
      "40%        5.000000\n",
      "50%        5.000000\n",
      "60%        6.000000\n",
      "70%        7.000000\n",
      "80%        7.000000\n",
      "90%        8.000000\n",
      "95%        8.000000\n",
      "99%        8.000000\n",
      "max        8.000000\n",
      "Name: Stress Level, dtype: float64\n"
     ]
    },
    {
     "data": {
      "image/png": "[encoded data removed]",
      "text/plain": [
       "<Figure size 640x480 with 1 Axes>"
      ]
     },
     "metadata": {},
     "output_type": "display_data"
    },
    {
     "name": "stdout",
     "output_type": "stream",
     "text": [
      "count    374.000000\n",
      "mean      70.165775\n",
      "std        4.135676\n",
      "min       65.000000\n",
      "5%        65.000000\n",
      "10%       65.000000\n",
      "20%       68.000000\n",
      "30%       68.000000\n",
      "40%       68.000000\n",
      "50%       70.000000\n",
      "60%       70.000000\n",
      "70%       72.000000\n",
      "80%       72.000000\n",
      "90%       75.000000\n",
      "95%       78.000000\n",
      "99%       85.000000\n",
      "max       86.000000\n",
      "Name: Heart Rate, dtype: float64\n"
     ]
    },
    {
     "data": {
      "image/png": "[encoded data removed]",
      "text/plain": [
       "<Figure size 640x480 with 1 Axes>"
      ]
     },
     "metadata": {},
     "output_type": "display_data"
    },
    {
     "name": "stdout",
     "output_type": "stream",
     "text": [
      "count      374.000000\n",
      "mean      6816.844920\n",
      "std       1617.915679\n",
      "min       3000.000000\n",
      "5%        4930.000000\n",
      "10%       5000.000000\n",
      "20%       5000.000000\n",
      "30%       6000.000000\n",
      "40%       6000.000000\n",
      "50%       7000.000000\n",
      "60%       7000.000000\n",
      "70%       8000.000000\n",
      "80%       8000.000000\n",
      "90%       8000.000000\n",
      "95%      10000.000000\n",
      "99%      10000.000000\n",
      "max      10000.000000\n",
      "Name: Daily Steps, dtype: float64\n"
     ]
    },
    {
     "data": {
      "image/png": "[encoded data removed]",
      "text/plain": [
       "<Figure size 640x480 with 1 Axes>"
      ]
     },
     "metadata": {},
     "output_type": "display_data"
    },
    {
     "name": "stdout",
     "output_type": "stream",
     "text": [
      "                      Age\n",
      "Sleep Disorder           \n",
      "Insomnia        43.519481\n",
      "No              39.036530\n",
      "Sleep Apnea     49.705128\n",
      "\n",
      "\n",
      "                Sleep Duration\n",
      "Sleep Disorder                \n",
      "Insomnia              6.589610\n",
      "No                    7.358447\n",
      "Sleep Apnea           7.032051\n",
      "\n",
      "\n",
      "                Quality of Sleep\n",
      "Sleep Disorder                  \n",
      "Insomnia                6.532468\n",
      "No                      7.625571\n",
      "Sleep Apnea             7.205128\n",
      "\n",
      "\n",
      "                Physical Activity Level\n",
      "Sleep Disorder                         \n",
      "Insomnia                      46.818182\n",
      "No                            57.949772\n",
      "Sleep Apnea                   74.794872\n",
      "\n",
      "\n",
      "                Stress Level\n",
      "Sleep Disorder              \n",
      "Insomnia            5.870130\n",
      "No                  5.114155\n",
      "Sleep Apnea         5.666667\n",
      "\n",
      "\n",
      "                Heart Rate\n",
      "Sleep Disorder            \n",
      "Insomnia         70.467532\n",
      "No               69.018265\n",
      "Sleep Apnea      73.089744\n",
      "\n",
      "\n",
      "                Daily Steps\n",
      "Sleep Disorder             \n",
      "Insomnia        5901.298701\n",
      "No              6852.968037\n",
      "Sleep Apnea     7619.230769\n",
      "\n",
      "\n"
     ]
    }
   ],
   "source": [
    "\n",
    "# Kategorik değişkenlerin incelenmesi\n",
    "for col in cat_cols:\n",
    "    cat_summary(data, col)\n",
    "\n",
    "# Sayısal değişkenlerin incelenmesi\n",
    "data[num_cols].describe().T\n",
    "\n",
    "for col in num_cols:\n",
    "   num_summary(data, col, plot=True)\n",
    "\n",
    "# Target ile sayısal değişkenlerin incelemesi\n",
    "for col in num_cols:\n",
    "    target_summary_with_num(data, \"Sleep Disorder\", col)"
   ]
  },
  {
   "cell_type": "code",
   "execution_count": 10,
   "metadata": {},
   "outputs": [
    {
     "name": "stdout",
     "output_type": "stream",
     "text": [
      "['Age', 'Sleep Duration', 'Quality of Sleep', 'Physical Activity Level', 'Stress Level', 'Heart Rate', 'Daily Steps']\n",
      "['Gender', 'Occupation', 'BMI Category', 'Sleep Disorder']\n"
     ]
    }
   ],
   "source": [
    "print(num_cols)\n",
    "print(cat_cols)"
   ]
  },
  {
   "cell_type": "code",
   "execution_count": 11,
   "metadata": {},
   "outputs": [
    {
     "data": {
      "image/png": "[encoded data removed]",
      "text/plain": [
       "<Figure size 640x480 with 1 Axes>"
      ]
     },
     "metadata": {},
     "output_type": "display_data"
    }
   ],
   "source": [
    "sns.countplot(x='Gender', hue='Sleep Disorder', data=data)\n",
    "plt.show()"
   ]
  },
  {
   "cell_type": "code",
   "execution_count": 12,
   "metadata": {},
   "outputs": [
    {
     "data": {
      "image/png": "[encoded data removed]",
      "text/plain": [
       "<Figure size 640x480 with 1 Axes>"
      ]
     },
     "metadata": {},
     "output_type": "display_data"
    }
   ],
   "source": [
    "sns.countplot(x='BMI Category', hue='Sleep Disorder', data=data)\n",
    "plt.show()\n"
   ]
  },
  {
   "cell_type": "code",
   "execution_count": 13,
   "metadata": {},
   "outputs": [
    {
     "data": {
      "text/plain": [
       "(374, 13)"
      ]
     },
     "execution_count": 13,
     "metadata": {},
     "output_type": "execute_result"
    }
   ],
   "source": [
    "data.head()\n",
    "data.shape"
   ]
  },
  {
   "cell_type": "code",
   "execution_count": 14,
   "metadata": {},
   "outputs": [
    {
     "data": {
      "text/html": [
       "<div>\n",
       "<style scoped>\n",
       "    .dataframe tbody tr th:only-of-type {\n",
       "        vertical-align: middle;\n",
       "    }\n",
       "\n",
       "    .dataframe tbody tr th {\n",
       "        vertical-align: top;\n",
       "    }\n",
       "\n",
       "    .dataframe thead th {\n",
       "        text-align: right;\n",
       "    }\n",
       "</style>\n",
       "<table border=\"1\" class=\"dataframe\">\n",
       "  <thead>\n",
       "    <tr style=\"text-align: right;\">\n",
       "      <th></th>\n",
       "      <th>PERSON ID</th>\n",
       "      <th>GENDER</th>\n",
       "      <th>AGE</th>\n",
       "      <th>OCCUPATION</th>\n",
       "      <th>SLEEP DURATION</th>\n",
       "      <th>QUALITY OF SLEEP</th>\n",
       "      <th>PHYSICAL ACTIVITY LEVEL</th>\n",
       "      <th>STRESS LEVEL</th>\n",
       "      <th>BMI CATEGORY</th>\n",
       "      <th>HEART RATE</th>\n",
       "      <th>DAILY STEPS</th>\n",
       "      <th>SLEEP DISORDER</th>\n",
       "      <th>BLOOD PRESSURE CATEGORY</th>\n",
       "      <th>SYSTOLIC</th>\n",
       "      <th>DIASTOLIC</th>\n",
       "      <th>SLEEP QUALITY SCORE</th>\n",
       "      <th>ACTIVITY SCORE</th>\n",
       "      <th>NEW_AGE_CAT</th>\n",
       "    </tr>\n",
       "  </thead>\n",
       "  <tbody>\n",
       "    <tr>\n",
       "      <th>0</th>\n",
       "      <td>1</td>\n",
       "      <td>Male</td>\n",
       "      <td>27</td>\n",
       "      <td>Software Engineer</td>\n",
       "      <td>6.1</td>\n",
       "      <td>6</td>\n",
       "      <td>42</td>\n",
       "      <td>6</td>\n",
       "      <td>Overweight</td>\n",
       "      <td>77</td>\n",
       "      <td>4200</td>\n",
       "      <td>No</td>\n",
       "      <td>High Blood Pressure</td>\n",
       "      <td>126</td>\n",
       "      <td>83</td>\n",
       "      <td>36.6</td>\n",
       "      <td>176400</td>\n",
       "      <td>young</td>\n",
       "    </tr>\n",
       "    <tr>\n",
       "      <th>1</th>\n",
       "      <td>2</td>\n",
       "      <td>Male</td>\n",
       "      <td>28</td>\n",
       "      <td>Doctor</td>\n",
       "      <td>6.2</td>\n",
       "      <td>6</td>\n",
       "      <td>60</td>\n",
       "      <td>8</td>\n",
       "      <td>Normal</td>\n",
       "      <td>75</td>\n",
       "      <td>10000</td>\n",
       "      <td>No</td>\n",
       "      <td>High Blood Pressure</td>\n",
       "      <td>125</td>\n",
       "      <td>80</td>\n",
       "      <td>37.2</td>\n",
       "      <td>600000</td>\n",
       "      <td>young</td>\n",
       "    </tr>\n",
       "    <tr>\n",
       "      <th>2</th>\n",
       "      <td>3</td>\n",
       "      <td>Male</td>\n",
       "      <td>28</td>\n",
       "      <td>Doctor</td>\n",
       "      <td>6.2</td>\n",
       "      <td>6</td>\n",
       "      <td>60</td>\n",
       "      <td>8</td>\n",
       "      <td>Normal</td>\n",
       "      <td>75</td>\n",
       "      <td>10000</td>\n",
       "      <td>No</td>\n",
       "      <td>High Blood Pressure</td>\n",
       "      <td>125</td>\n",
       "      <td>80</td>\n",
       "      <td>37.2</td>\n",
       "      <td>600000</td>\n",
       "      <td>young</td>\n",
       "    </tr>\n",
       "    <tr>\n",
       "      <th>3</th>\n",
       "      <td>4</td>\n",
       "      <td>Male</td>\n",
       "      <td>28</td>\n",
       "      <td>Sales Representative</td>\n",
       "      <td>5.9</td>\n",
       "      <td>4</td>\n",
       "      <td>30</td>\n",
       "      <td>8</td>\n",
       "      <td>Obese</td>\n",
       "      <td>85</td>\n",
       "      <td>3000</td>\n",
       "      <td>Sleep Apnea</td>\n",
       "      <td>High Blood Pressure</td>\n",
       "      <td>140</td>\n",
       "      <td>90</td>\n",
       "      <td>23.6</td>\n",
       "      <td>90000</td>\n",
       "      <td>young</td>\n",
       "    </tr>\n",
       "    <tr>\n",
       "      <th>4</th>\n",
       "      <td>5</td>\n",
       "      <td>Male</td>\n",
       "      <td>28</td>\n",
       "      <td>Sales Representative</td>\n",
       "      <td>5.9</td>\n",
       "      <td>4</td>\n",
       "      <td>30</td>\n",
       "      <td>8</td>\n",
       "      <td>Obese</td>\n",
       "      <td>85</td>\n",
       "      <td>3000</td>\n",
       "      <td>Sleep Apnea</td>\n",
       "      <td>High Blood Pressure</td>\n",
       "      <td>140</td>\n",
       "      <td>90</td>\n",
       "      <td>23.6</td>\n",
       "      <td>90000</td>\n",
       "      <td>young</td>\n",
       "    </tr>\n",
       "  </tbody>\n",
       "</table>\n",
       "</div>"
      ],
      "text/plain": [
       "   PERSON ID GENDER  AGE            OCCUPATION  SLEEP DURATION  QUALITY OF SLEEP  PHYSICAL ACTIVITY LEVEL  STRESS LEVEL BMI CATEGORY  HEART RATE  DAILY STEPS SLEEP DISORDER BLOOD PRESSURE CATEGORY SYSTOLIC DIASTOLIC  SLEEP QUALITY SCORE  ACTIVITY SCORE NEW_AGE_CAT\n",
       "0          1   Male   27     Software Engineer             6.1                 6                       42             6   Overweight          77         4200             No    High Blood Pressure       126        83                 36.6          176400       young\n",
       "1          2   Male   28                Doctor             6.2                 6                       60             8       Normal          75        10000             No    High Blood Pressure       125        80                 37.2          600000       young\n",
       "2          3   Male   28                Doctor             6.2                 6                       60             8       Normal          75        10000             No    High Blood Pressure       125        80                 37.2          600000       young\n",
       "3          4   Male   28  Sales Representative             5.9                 4                       30             8        Obese          85         3000    Sleep Apnea    High Blood Pressure       140        90                 23.6           90000       young\n",
       "4          5   Male   28  Sales Representative             5.9                 4                       30             8        Obese          85         3000    Sleep Apnea    High Blood Pressure       140        90                 23.6           90000       young"
      ]
     },
     "execution_count": 14,
     "metadata": {},
     "output_type": "execute_result"
    }
   ],
   "source": [
    "################################################\n",
    "# 2. FEATURE ENGINEERİNG\n",
    "################################################\n",
    "\n",
    "# 'Blood Pressure' sütununu kullanarak kan basıncı kategorileri oluşturun\n",
    "def categorize_blood_pressure(bp):\n",
    "    systolic, diastolic = map(int, bp.split('/'))\n",
    "\n",
    "    if systolic < 120 and diastolic < 80:\n",
    "        return 'Normal'\n",
    "    elif 120 <= systolic <= 129 and diastolic < 80:\n",
    "        return 'Elevated'\n",
    "    elif 130 <= systolic <= 139 or 80 <= diastolic <= 89:\n",
    "        return 'High Blood Pressure '\n",
    "    elif systolic >= 140 or diastolic >= 90:\n",
    "        return 'High Blood Pressure '\n",
    "    else:\n",
    "        return 'Hypertensive Crisis'\n",
    "\n",
    "data['Blood Pressure Category'] = data['Blood Pressure'].apply(categorize_blood_pressure)\n",
    "\n",
    "\n",
    "# 'Blood Pressure' sütununu '/' karakterine göre böler ve 'SYSTOLIC' ile 'DIASTOLIC' sütunlarını oluşturur\n",
    "data[['SYSTOLIC', 'DIASTOLIC']] = data['Blood Pressure'].str.split('/', expand=True)\n",
    "\n",
    "data = data.drop(\"Blood Pressure\", axis = 1)\n",
    "# 'Sleep Duration' ve 'Quality of Sleep' değişkenlerini kullanarak toplam bir uyku kalite skoru oluşturun\n",
    "data['Sleep Quality Score'] = data['Sleep Duration'] * data['Quality of Sleep']\n",
    "\n",
    "# 'Physical Activity Level' ve 'Daily Steps' değişkenlerini kullanarak genel bir fiziksel aktivite skoru hesaplayın\n",
    "data['Activity Score'] = data['Physical Activity Level'] * data['Daily Steps']\n",
    "\n",
    "\n",
    "# Değişken isimleri büyütmek\n",
    "data.columns = [col.upper() for col in data.columns]\n",
    "\n",
    "# Age\n",
    "data.loc[(data['AGE'] < 35), \"NEW_AGE_CAT\"] = 'young'\n",
    "data.loc[(data['AGE'] >= 35) & (data['AGE'] <= 55), \"NEW_AGE_CAT\"] = 'middleage'\n",
    "data.loc[(data['AGE'] > 55), \"NEW_AGE_CAT\"] = 'old'\n",
    "data.head()\n"
   ]
  },
  {
   "cell_type": "code",
   "execution_count": 15,
   "metadata": {},
   "outputs": [],
   "source": [
    "data.dtypes\n",
    "\n",
    "data['SYSTOLIC'] = pd.to_numeric(data['SYSTOLIC'], errors='coerce')\n",
    "data[\"DIASTOLIC\"] = pd.to_numeric(data['DIASTOLIC'], errors='coerce')"
   ]
  },
  {
   "cell_type": "code",
   "execution_count": 16,
   "metadata": {},
   "outputs": [],
   "source": [
    "cat_cols, num_cols, cat_but_car = grab_col_names(data)"
   ]
  },
  {
   "cell_type": "code",
   "execution_count": 17,
   "metadata": {},
   "outputs": [
    {
     "name": "stdout",
     "output_type": "stream",
     "text": [
      "Aykırı Değer Yok - Sütun: PERSON ID\n",
      "Aykırı Değer Yok - Sütun: AGE\n",
      "Aykırı Değer Yok - Sütun: SLEEP DURATION\n",
      "Aykırı Değer Yok - Sütun: QUALITY OF SLEEP\n",
      "Aykırı Değer Yok - Sütun: PHYSICAL ACTIVITY LEVEL\n",
      "Aykırı Değer Yok - Sütun: STRESS LEVEL\n",
      "Aykırı Değer Yok - Sütun: HEART RATE\n",
      "Aykırı Değer Yok - Sütun: DAILY STEPS\n",
      "Aykırı Değer Yok - Sütun: SYSTOLIC\n",
      "Aykırı Değer Yok - Sütun: DIASTOLIC\n",
      "Aykırı Değer Yok - Sütun: SLEEP QUALITY SCORE\n",
      "Aykırı Değer Yok - Sütun: ACTIVITY SCORE\n"
     ]
    }
   ],
   "source": [
    "def outlier_thresholds(dataframe, col_name, q1=0.01, q3=0.99):\n",
    "    quartile1 = dataframe[col_name].quantile(q1)\n",
    "    quartile3 = dataframe[col_name].quantile(q3)\n",
    "    interquantile_range = quartile3 - quartile1\n",
    "    up_limit = quartile3 + 1.5 * interquantile_range\n",
    "    low_limit = quartile1 - 1.5 * interquantile_range\n",
    "    return low_limit, up_limit\n",
    "\n",
    "\n",
    "def check_outlier(dataframe, col_name):\n",
    "    low_limit, up_limit = outlier_thresholds(dataframe, col_name)\n",
    "    outliers = dataframe[(dataframe[col_name] > up_limit) | (dataframe[col_name] < low_limit)]\n",
    "    return outliers\n",
    "\n",
    "for col in num_cols:\n",
    "    outliers_df = check_outlier(data, col)\n",
    "    if not outliers_df.empty:\n",
    "        print(f\"Aykırı Değerler Var - Sütun: {col}\")\n",
    "        print(outliers_df)\n",
    "    else:\n",
    "        print(f\"Aykırı Değer Yok - Sütun: {col}\")\n"
   ]
  },
  {
   "cell_type": "code",
   "execution_count": 18,
   "metadata": {},
   "outputs": [],
   "source": [
    "data = data.drop(\"PERSON ID\",axis =1)"
   ]
  },
  {
   "cell_type": "code",
   "execution_count": 19,
   "metadata": {},
   "outputs": [
    {
     "data": {
      "text/plain": [
       "242"
      ]
     },
     "execution_count": 19,
     "metadata": {},
     "output_type": "execute_result"
    }
   ],
   "source": [
    "\n",
    "data.duplicated().sum()"
   ]
  },
  {
   "cell_type": "code",
   "execution_count": 20,
   "metadata": {},
   "outputs": [],
   "source": [
    "cat_cols, num_cols, cat_but_car = grab_col_names(data)"
   ]
  },
  {
   "cell_type": "code",
   "execution_count": 21,
   "metadata": {},
   "outputs": [
    {
     "name": "stdout",
     "output_type": "stream",
     "text": [
      "['AGE', 'SLEEP DURATION', 'QUALITY OF SLEEP', 'PHYSICAL ACTIVITY LEVEL', 'STRESS LEVEL', 'HEART RATE', 'DAILY STEPS', 'SYSTOLIC', 'DIASTOLIC', 'SLEEP QUALITY SCORE', 'ACTIVITY SCORE']\n"
     ]
    }
   ],
   "source": [
    "print(num_cols)"
   ]
  },
  {
   "cell_type": "code",
   "execution_count": 22,
   "metadata": {},
   "outputs": [
    {
     "name": "stdout",
     "output_type": "stream",
     "text": [
      "['GENDER', 'OCCUPATION', 'BMI CATEGORY', 'SLEEP DISORDER', 'BLOOD PRESSURE CATEGORY', 'NEW_AGE_CAT']\n"
     ]
    }
   ],
   "source": [
    "print(cat_cols)"
   ]
  },
  {
   "cell_type": "code",
   "execution_count": 23,
   "metadata": {},
   "outputs": [
    {
     "data": {
      "text/plain": [
       "GENDER                      object\n",
       "AGE                          int64\n",
       "OCCUPATION                  object\n",
       "SLEEP DURATION             float64\n",
       "QUALITY OF SLEEP             int64\n",
       "PHYSICAL ACTIVITY LEVEL      int64\n",
       "STRESS LEVEL                 int64\n",
       "BMI CATEGORY                object\n",
       "HEART RATE                   int64\n",
       "DAILY STEPS                  int64\n",
       "SLEEP DISORDER              object\n",
       "BLOOD PRESSURE CATEGORY     object\n",
       "SYSTOLIC                     int64\n",
       "DIASTOLIC                    int64\n",
       "SLEEP QUALITY SCORE        float64\n",
       "ACTIVITY SCORE               int64\n",
       "NEW_AGE_CAT                 object\n",
       "dtype: object"
      ]
     },
     "execution_count": 23,
     "metadata": {},
     "output_type": "execute_result"
    }
   ],
   "source": [
    "data.dtypes"
   ]
  },
  {
   "cell_type": "code",
   "execution_count": 24,
   "metadata": {},
   "outputs": [
    {
     "name": "stdout",
     "output_type": "stream",
     "text": [
      "['GENDER', 'OCCUPATION', 'BMI CATEGORY', 'SLEEP DISORDER', 'BLOOD PRESSURE CATEGORY', 'NEW_AGE_CAT']\n",
      "['AGE', 'SLEEP DURATION', 'QUALITY OF SLEEP', 'PHYSICAL ACTIVITY LEVEL', 'STRESS LEVEL', 'HEART RATE', 'DAILY STEPS', 'SYSTOLIC', 'DIASTOLIC', 'SLEEP QUALITY SCORE', 'ACTIVITY SCORE']\n",
      "  GENDER  AGE            OCCUPATION  SLEEP DURATION  QUALITY OF SLEEP  PHYSICAL ACTIVITY LEVEL  STRESS LEVEL BMI CATEGORY  HEART RATE  DAILY STEPS SLEEP DISORDER BLOOD PRESSURE CATEGORY  SYSTOLIC  DIASTOLIC  SLEEP QUALITY SCORE  ACTIVITY SCORE NEW_AGE_CAT\n",
      "0   Male   27     Software Engineer             6.1                 6                       42             6   Overweight          77         4200             No    High Blood Pressure        126         83                 36.6          176400       young\n",
      "1   Male   28                Doctor             6.2                 6                       60             8       Normal          75        10000             No    High Blood Pressure        125         80                 37.2          600000       young\n",
      "2   Male   28                Doctor             6.2                 6                       60             8       Normal          75        10000             No    High Blood Pressure        125         80                 37.2          600000       young\n",
      "3   Male   28  Sales Representative             5.9                 4                       30             8        Obese          85         3000    Sleep Apnea    High Blood Pressure        140         90                 23.6           90000       young\n",
      "4   Male   28  Sales Representative             5.9                 4                       30             8        Obese          85         3000    Sleep Apnea    High Blood Pressure        140         90                 23.6           90000       young\n"
     ]
    }
   ],
   "source": [
    "\n",
    "print(cat_cols)\n",
    "print(num_cols)\n",
    "print(data.head())"
   ]
  },
  {
   "cell_type": "code",
   "execution_count": 25,
   "metadata": {},
   "outputs": [
    {
     "name": "stdout",
     "output_type": "stream",
     "text": [
      "['Male' 'Female']\n",
      "['Software Engineer' 'Doctor' 'Sales Representative' 'Teacher' 'Nurse'\n",
      " 'Engineer' 'Accountant' 'Scientist' 'Lawyer' 'Salesperson' 'Manager']\n",
      "['Overweight' 'Normal' 'Obese' 'Normal Weight']\n",
      "['No' 'Sleep Apnea' 'Insomnia']\n",
      "['High Blood Pressure ' 'Normal' 'Elevated']\n",
      "['young' 'middleage' 'old']\n"
     ]
    }
   ],
   "source": [
    "for col in cat_cols:\n",
    "    unique_occupations = data[col].unique()\n",
    "    print(unique_occupations)\n"
   ]
  },
  {
   "cell_type": "code",
   "execution_count": 26,
   "metadata": {},
   "outputs": [],
   "source": [
    "#data = data.drop_duplicates()"
   ]
  },
  {
   "cell_type": "code",
   "execution_count": 27,
   "metadata": {},
   "outputs": [],
   "source": [
    "#data.drop_duplicates(keep=\"last\", inplace=True)\n"
   ]
  },
  {
   "cell_type": "code",
   "execution_count": 28,
   "metadata": {},
   "outputs": [
    {
     "data": {
      "text/html": [
       "<div>\n",
       "<style scoped>\n",
       "    .dataframe tbody tr th:only-of-type {\n",
       "        vertical-align: middle;\n",
       "    }\n",
       "\n",
       "    .dataframe tbody tr th {\n",
       "        vertical-align: top;\n",
       "    }\n",
       "\n",
       "    .dataframe thead th {\n",
       "        text-align: right;\n",
       "    }\n",
       "</style>\n",
       "<table border=\"1\" class=\"dataframe\">\n",
       "  <thead>\n",
       "    <tr style=\"text-align: right;\">\n",
       "      <th></th>\n",
       "      <th>GENDER</th>\n",
       "      <th>AGE</th>\n",
       "      <th>OCCUPATION</th>\n",
       "      <th>SLEEP DURATION</th>\n",
       "      <th>QUALITY OF SLEEP</th>\n",
       "      <th>PHYSICAL ACTIVITY LEVEL</th>\n",
       "      <th>STRESS LEVEL</th>\n",
       "      <th>BMI CATEGORY</th>\n",
       "      <th>HEART RATE</th>\n",
       "      <th>DAILY STEPS</th>\n",
       "      <th>SLEEP DISORDER</th>\n",
       "      <th>BLOOD PRESSURE CATEGORY</th>\n",
       "      <th>SYSTOLIC</th>\n",
       "      <th>DIASTOLIC</th>\n",
       "      <th>SLEEP QUALITY SCORE</th>\n",
       "      <th>ACTIVITY SCORE</th>\n",
       "      <th>NEW_AGE_CAT</th>\n",
       "    </tr>\n",
       "  </thead>\n",
       "  <tbody>\n",
       "    <tr>\n",
       "      <th>0</th>\n",
       "      <td>Male</td>\n",
       "      <td>27</td>\n",
       "      <td>Software Engineer</td>\n",
       "      <td>6.1</td>\n",
       "      <td>6</td>\n",
       "      <td>42</td>\n",
       "      <td>6</td>\n",
       "      <td>Overweight</td>\n",
       "      <td>77</td>\n",
       "      <td>4200</td>\n",
       "      <td>No</td>\n",
       "      <td>High Blood Pressure</td>\n",
       "      <td>126</td>\n",
       "      <td>83</td>\n",
       "      <td>36.6</td>\n",
       "      <td>176400</td>\n",
       "      <td>young</td>\n",
       "    </tr>\n",
       "    <tr>\n",
       "      <th>1</th>\n",
       "      <td>Male</td>\n",
       "      <td>28</td>\n",
       "      <td>Doctor</td>\n",
       "      <td>6.2</td>\n",
       "      <td>6</td>\n",
       "      <td>60</td>\n",
       "      <td>8</td>\n",
       "      <td>Normal</td>\n",
       "      <td>75</td>\n",
       "      <td>10000</td>\n",
       "      <td>No</td>\n",
       "      <td>High Blood Pressure</td>\n",
       "      <td>125</td>\n",
       "      <td>80</td>\n",
       "      <td>37.2</td>\n",
       "      <td>600000</td>\n",
       "      <td>young</td>\n",
       "    </tr>\n",
       "    <tr>\n",
       "      <th>2</th>\n",
       "      <td>Male</td>\n",
       "      <td>28</td>\n",
       "      <td>Doctor</td>\n",
       "      <td>6.2</td>\n",
       "      <td>6</td>\n",
       "      <td>60</td>\n",
       "      <td>8</td>\n",
       "      <td>Normal</td>\n",
       "      <td>75</td>\n",
       "      <td>10000</td>\n",
       "      <td>No</td>\n",
       "      <td>High Blood Pressure</td>\n",
       "      <td>125</td>\n",
       "      <td>80</td>\n",
       "      <td>37.2</td>\n",
       "      <td>600000</td>\n",
       "      <td>young</td>\n",
       "    </tr>\n",
       "    <tr>\n",
       "      <th>3</th>\n",
       "      <td>Male</td>\n",
       "      <td>28</td>\n",
       "      <td>Sales Representative</td>\n",
       "      <td>5.9</td>\n",
       "      <td>4</td>\n",
       "      <td>30</td>\n",
       "      <td>8</td>\n",
       "      <td>Obese</td>\n",
       "      <td>85</td>\n",
       "      <td>3000</td>\n",
       "      <td>Sleep Apnea</td>\n",
       "      <td>High Blood Pressure</td>\n",
       "      <td>140</td>\n",
       "      <td>90</td>\n",
       "      <td>23.6</td>\n",
       "      <td>90000</td>\n",
       "      <td>young</td>\n",
       "    </tr>\n",
       "    <tr>\n",
       "      <th>4</th>\n",
       "      <td>Male</td>\n",
       "      <td>28</td>\n",
       "      <td>Sales Representative</td>\n",
       "      <td>5.9</td>\n",
       "      <td>4</td>\n",
       "      <td>30</td>\n",
       "      <td>8</td>\n",
       "      <td>Obese</td>\n",
       "      <td>85</td>\n",
       "      <td>3000</td>\n",
       "      <td>Sleep Apnea</td>\n",
       "      <td>High Blood Pressure</td>\n",
       "      <td>140</td>\n",
       "      <td>90</td>\n",
       "      <td>23.6</td>\n",
       "      <td>90000</td>\n",
       "      <td>young</td>\n",
       "    </tr>\n",
       "  </tbody>\n",
       "</table>\n",
       "</div>"
      ],
      "text/plain": [
       "  GENDER  AGE            OCCUPATION  SLEEP DURATION  QUALITY OF SLEEP  PHYSICAL ACTIVITY LEVEL  STRESS LEVEL BMI CATEGORY  HEART RATE  DAILY STEPS SLEEP DISORDER BLOOD PRESSURE CATEGORY  SYSTOLIC  DIASTOLIC  SLEEP QUALITY SCORE  ACTIVITY SCORE NEW_AGE_CAT\n",
       "0   Male   27     Software Engineer             6.1                 6                       42             6   Overweight          77         4200             No    High Blood Pressure        126         83                 36.6          176400       young\n",
       "1   Male   28                Doctor             6.2                 6                       60             8       Normal          75        10000             No    High Blood Pressure        125         80                 37.2          600000       young\n",
       "2   Male   28                Doctor             6.2                 6                       60             8       Normal          75        10000             No    High Blood Pressure        125         80                 37.2          600000       young\n",
       "3   Male   28  Sales Representative             5.9                 4                       30             8        Obese          85         3000    Sleep Apnea    High Blood Pressure        140         90                 23.6           90000       young\n",
       "4   Male   28  Sales Representative             5.9                 4                       30             8        Obese          85         3000    Sleep Apnea    High Blood Pressure        140         90                 23.6           90000       young"
      ]
     },
     "execution_count": 28,
     "metadata": {},
     "output_type": "execute_result"
    }
   ],
   "source": [
    "data.head()"
   ]
  },
  {
   "cell_type": "code",
   "execution_count": 29,
   "metadata": {},
   "outputs": [],
   "source": [
    "#data.drop_duplicates(keep=\"last\", inplace=True)"
   ]
  },
  {
   "cell_type": "code",
   "execution_count": 30,
   "metadata": {},
   "outputs": [],
   "source": [
    "# \"Sleep Disorder\" sütununu kategorik olarak kodlayın\n",
    "data[\"SLEEP DISORDER\"] = data[\"SLEEP DISORDER\"].map({\"Insomnia\": 1, \"Sleep Apnea\": 2, \"No\": 0})\n",
    "\n",
    "\n",
    "import pickle\n",
    "ohe_columns = ['OCCUPATION', 'BMI CATEGORY', 'BLOOD PRESSURE CATEGORY', 'NEW_AGE_CAT']\n",
    "num_cols = ['AGE', 'SLEEP DURATION', 'QUALITY OF SLEEP', 'PHYSICAL ACTIVITY LEVEL', 'STRESS LEVEL', 'HEART RATE', 'DAILY STEPS', 'SYSTOLIC', 'DIASTOLIC', 'SLEEP QUALITY SCORE', 'ACTIVITY SCORE']\n",
    "\n",
    "scale = StandardScaler()\n",
    "data[num_cols] = scale.fit_transform(data[num_cols])\n",
    "\n",
    "\n",
    "# 'Gender' sütununu label encode et\n",
    "label = LabelEncoder()\n",
    "data['GENDER'] = label.fit_transform(data['GENDER'])\n",
    "with open('label_encoder.pkl', 'wb') as le_file:\n",
    "    pickle.dump(label, le_file)\n",
    "\n",
    "\n",
    "\n",
    "# One-Hot Encoder'ı tanımlayın\n",
    "encoder = OneHotEncoder()\n",
    "\n",
    "# Kullanıcı verilerine One-Hot Encoding uygulayın\n",
    "encoded_data = encoder.fit_transform(data[ohe_columns])  # user_data, kullanıcıdan alınan verilerdir\n",
    "\n",
    "# One-Hot Encoding sonrası sütun isimlerini alın\n",
    "encoded_columns = encoder.get_feature_names_out(input_features=ohe_columns)\n",
    "\n",
    "# One-Hot Encoding sonrası veriyi DataFrame'e dönüştürün\n",
    "encoded_data = pd.DataFrame(encoded_data.toarray(), columns=encoded_columns) # OneHotEncoder'ı kaydet\n",
    "with open('encoded_data.pkl', 'wb') as ohe_file:\n",
    "    pickle.dump(encoder, ohe_file)  "
   ]
  },
  {
   "cell_type": "code",
   "execution_count": 31,
   "metadata": {},
   "outputs": [
    {
     "data": {
      "text/plain": [
       "Index(['OCCUPATION_Accountant', 'OCCUPATION_Doctor', 'OCCUPATION_Engineer', 'OCCUPATION_Lawyer', 'OCCUPATION_Manager', 'OCCUPATION_Nurse', 'OCCUPATION_Sales Representative', 'OCCUPATION_Salesperson', 'OCCUPATION_Scientist', 'OCCUPATION_Software Engineer', 'OCCUPATION_Teacher', 'BMI CATEGORY_Normal', 'BMI CATEGORY_Normal Weight', 'BMI CATEGORY_Obese', 'BMI CATEGORY_Overweight', 'BLOOD PRESSURE CATEGORY_Elevated', 'BLOOD PRESSURE CATEGORY_High Blood Pressure ', 'BLOOD PRESSURE CATEGORY_Normal',\n",
       "       'NEW_AGE_CAT_middleage', 'NEW_AGE_CAT_old', 'NEW_AGE_CAT_young'],\n",
       "      dtype='object')"
      ]
     },
     "execution_count": 31,
     "metadata": {},
     "output_type": "execute_result"
    }
   ],
   "source": [
    "encoded_data.columns"
   ]
  },
  {
   "cell_type": "code",
   "execution_count": 32,
   "metadata": {},
   "outputs": [
    {
     "data": {
      "text/plain": [
       "OCCUPATION_Accountant                           0\n",
       "OCCUPATION_Doctor                               0\n",
       "OCCUPATION_Engineer                             0\n",
       "OCCUPATION_Lawyer                               0\n",
       "OCCUPATION_Manager                              0\n",
       "OCCUPATION_Nurse                                0\n",
       "OCCUPATION_Sales Representative                 0\n",
       "OCCUPATION_Salesperson                          0\n",
       "OCCUPATION_Scientist                            0\n",
       "OCCUPATION_Software Engineer                    0\n",
       "OCCUPATION_Teacher                              0\n",
       "BMI CATEGORY_Normal                             0\n",
       "BMI CATEGORY_Normal Weight                      0\n",
       "BMI CATEGORY_Obese                              0\n",
       "BMI CATEGORY_Overweight                         0\n",
       "BLOOD PRESSURE CATEGORY_Elevated                0\n",
       "BLOOD PRESSURE CATEGORY_High Blood Pressure     0\n",
       "BLOOD PRESSURE CATEGORY_Normal                  0\n",
       "NEW_AGE_CAT_middleage                           0\n",
       "NEW_AGE_CAT_old                                 0\n",
       "NEW_AGE_CAT_young                               0\n",
       "dtype: int64"
      ]
     },
     "execution_count": 32,
     "metadata": {},
     "output_type": "execute_result"
    }
   ],
   "source": [
    "encoded_data.isnull().sum()"
   ]
  },
  {
   "cell_type": "code",
   "execution_count": 33,
   "metadata": {},
   "outputs": [
    {
     "name": "stdout",
     "output_type": "stream",
     "text": [
      "NaN Değerlere Sahip Sütunlar:\n",
      "Index([], dtype='object')\n"
     ]
    }
   ],
   "source": [
    "# One-Hot Encoding sonrasında NaN değerlere sahip sütunları kontrol et\n",
    "nan_columns = encoded_data.columns[encoded_data.isnull().any()]\n",
    "print(\"NaN Değerlere Sahip Sütunlar:\")\n",
    "print(nan_columns)\n",
    "\n",
    "# NaN değerlere sahip sütunlardaki benzersiz değerleri kontrol et\n",
    "for column in nan_columns:\n",
    "    unique_values = data[column.replace('x0_', '')].unique()\n",
    "    print(f\"{column}: {unique_values}\")\n"
   ]
  },
  {
   "cell_type": "code",
   "execution_count": 34,
   "metadata": {},
   "outputs": [
    {
     "data": {
      "text/plain": [
       "GENDER                     0\n",
       "AGE                        0\n",
       "OCCUPATION                 0\n",
       "SLEEP DURATION             0\n",
       "QUALITY OF SLEEP           0\n",
       "PHYSICAL ACTIVITY LEVEL    0\n",
       "STRESS LEVEL               0\n",
       "BMI CATEGORY               0\n",
       "HEART RATE                 0\n",
       "DAILY STEPS                0\n",
       "SLEEP DISORDER             0\n",
       "BLOOD PRESSURE CATEGORY    0\n",
       "SYSTOLIC                   0\n",
       "DIASTOLIC                  0\n",
       "SLEEP QUALITY SCORE        0\n",
       "ACTIVITY SCORE             0\n",
       "NEW_AGE_CAT                0\n",
       "dtype: int64"
      ]
     },
     "execution_count": 34,
     "metadata": {},
     "output_type": "execute_result"
    }
   ],
   "source": [
    "data.isnull().sum()"
   ]
  },
  {
   "cell_type": "code",
   "execution_count": 35,
   "metadata": {},
   "outputs": [],
   "source": [
    "data.reset_index(drop=True, inplace=True)\n",
    "encoded_data.reset_index(drop=True, inplace=True)\n"
   ]
  },
  {
   "cell_type": "code",
   "execution_count": 36,
   "metadata": {},
   "outputs": [],
   "source": [
    "# One-Hot Encoding sonrası sütun isimlerini ve veriyi birleştir\n",
    "data = pd.concat([data.drop(ohe_columns, axis=1), encoded_data], axis=1)"
   ]
  },
  {
   "cell_type": "code",
   "execution_count": 37,
   "metadata": {},
   "outputs": [
    {
     "data": {
      "text/html": [
       "<div>\n",
       "<style scoped>\n",
       "    .dataframe tbody tr th:only-of-type {\n",
       "        vertical-align: middle;\n",
       "    }\n",
       "\n",
       "    .dataframe tbody tr th {\n",
       "        vertical-align: top;\n",
       "    }\n",
       "\n",
       "    .dataframe thead th {\n",
       "        text-align: right;\n",
       "    }\n",
       "</style>\n",
       "<table border=\"1\" class=\"dataframe\">\n",
       "  <thead>\n",
       "    <tr style=\"text-align: right;\">\n",
       "      <th></th>\n",
       "      <th>GENDER</th>\n",
       "      <th>AGE</th>\n",
       "      <th>SLEEP DURATION</th>\n",
       "      <th>QUALITY OF SLEEP</th>\n",
       "      <th>PHYSICAL ACTIVITY LEVEL</th>\n",
       "      <th>STRESS LEVEL</th>\n",
       "      <th>HEART RATE</th>\n",
       "      <th>DAILY STEPS</th>\n",
       "      <th>SLEEP DISORDER</th>\n",
       "      <th>SYSTOLIC</th>\n",
       "      <th>DIASTOLIC</th>\n",
       "      <th>SLEEP QUALITY SCORE</th>\n",
       "      <th>ACTIVITY SCORE</th>\n",
       "      <th>OCCUPATION_Accountant</th>\n",
       "      <th>OCCUPATION_Doctor</th>\n",
       "      <th>OCCUPATION_Engineer</th>\n",
       "      <th>OCCUPATION_Lawyer</th>\n",
       "      <th>OCCUPATION_Manager</th>\n",
       "      <th>OCCUPATION_Nurse</th>\n",
       "      <th>OCCUPATION_Sales Representative</th>\n",
       "      <th>OCCUPATION_Salesperson</th>\n",
       "      <th>OCCUPATION_Scientist</th>\n",
       "      <th>OCCUPATION_Software Engineer</th>\n",
       "      <th>OCCUPATION_Teacher</th>\n",
       "      <th>BMI CATEGORY_Normal</th>\n",
       "      <th>BMI CATEGORY_Normal Weight</th>\n",
       "      <th>BMI CATEGORY_Obese</th>\n",
       "      <th>BMI CATEGORY_Overweight</th>\n",
       "      <th>BLOOD PRESSURE CATEGORY_Elevated</th>\n",
       "      <th>BLOOD PRESSURE CATEGORY_High Blood Pressure</th>\n",
       "      <th>BLOOD PRESSURE CATEGORY_Normal</th>\n",
       "      <th>NEW_AGE_CAT_middleage</th>\n",
       "      <th>NEW_AGE_CAT_old</th>\n",
       "      <th>NEW_AGE_CAT_young</th>\n",
       "    </tr>\n",
       "  </thead>\n",
       "  <tbody>\n",
       "    <tr>\n",
       "      <th>0</th>\n",
       "      <td>1</td>\n",
       "      <td>-1.753096</td>\n",
       "      <td>-1.298887</td>\n",
       "      <td>-1.098280</td>\n",
       "      <td>-0.825418</td>\n",
       "      <td>0.347021</td>\n",
       "      <td>1.654719</td>\n",
       "      <td>-1.619584</td>\n",
       "      <td>0</td>\n",
       "      <td>-0.330002</td>\n",
       "      <td>-0.268102</td>\n",
       "      <td>-1.178322</td>\n",
       "      <td>-1.093115</td>\n",
       "      <td>0.0</td>\n",
       "      <td>0.0</td>\n",
       "      <td>0.0</td>\n",
       "      <td>0.0</td>\n",
       "      <td>0.0</td>\n",
       "      <td>0.0</td>\n",
       "      <td>0.0</td>\n",
       "      <td>0.0</td>\n",
       "      <td>0.0</td>\n",
       "      <td>1.0</td>\n",
       "      <td>0.0</td>\n",
       "      <td>0.0</td>\n",
       "      <td>0.0</td>\n",
       "      <td>0.0</td>\n",
       "      <td>1.0</td>\n",
       "      <td>0.0</td>\n",
       "      <td>1.0</td>\n",
       "      <td>0.0</td>\n",
       "      <td>0.0</td>\n",
       "      <td>0.0</td>\n",
       "      <td>1.0</td>\n",
       "    </tr>\n",
       "    <tr>\n",
       "      <th>1</th>\n",
       "      <td>1</td>\n",
       "      <td>-1.637643</td>\n",
       "      <td>-1.173036</td>\n",
       "      <td>-1.098280</td>\n",
       "      <td>0.039844</td>\n",
       "      <td>1.475592</td>\n",
       "      <td>1.170474</td>\n",
       "      <td>1.970077</td>\n",
       "      <td>0</td>\n",
       "      <td>-0.459239</td>\n",
       "      <td>-0.755640</td>\n",
       "      <td>-1.135199</td>\n",
       "      <td>0.737579</td>\n",
       "      <td>0.0</td>\n",
       "      <td>1.0</td>\n",
       "      <td>0.0</td>\n",
       "      <td>0.0</td>\n",
       "      <td>0.0</td>\n",
       "      <td>0.0</td>\n",
       "      <td>0.0</td>\n",
       "      <td>0.0</td>\n",
       "      <td>0.0</td>\n",
       "      <td>0.0</td>\n",
       "      <td>0.0</td>\n",
       "      <td>1.0</td>\n",
       "      <td>0.0</td>\n",
       "      <td>0.0</td>\n",
       "      <td>0.0</td>\n",
       "      <td>0.0</td>\n",
       "      <td>1.0</td>\n",
       "      <td>0.0</td>\n",
       "      <td>0.0</td>\n",
       "      <td>0.0</td>\n",
       "      <td>1.0</td>\n",
       "    </tr>\n",
       "    <tr>\n",
       "      <th>2</th>\n",
       "      <td>1</td>\n",
       "      <td>-1.637643</td>\n",
       "      <td>-1.173036</td>\n",
       "      <td>-1.098280</td>\n",
       "      <td>0.039844</td>\n",
       "      <td>1.475592</td>\n",
       "      <td>1.170474</td>\n",
       "      <td>1.970077</td>\n",
       "      <td>0</td>\n",
       "      <td>-0.459239</td>\n",
       "      <td>-0.755640</td>\n",
       "      <td>-1.135199</td>\n",
       "      <td>0.737579</td>\n",
       "      <td>0.0</td>\n",
       "      <td>1.0</td>\n",
       "      <td>0.0</td>\n",
       "      <td>0.0</td>\n",
       "      <td>0.0</td>\n",
       "      <td>0.0</td>\n",
       "      <td>0.0</td>\n",
       "      <td>0.0</td>\n",
       "      <td>0.0</td>\n",
       "      <td>0.0</td>\n",
       "      <td>0.0</td>\n",
       "      <td>1.0</td>\n",
       "      <td>0.0</td>\n",
       "      <td>0.0</td>\n",
       "      <td>0.0</td>\n",
       "      <td>0.0</td>\n",
       "      <td>1.0</td>\n",
       "      <td>0.0</td>\n",
       "      <td>0.0</td>\n",
       "      <td>0.0</td>\n",
       "      <td>1.0</td>\n",
       "    </tr>\n",
       "    <tr>\n",
       "      <th>3</th>\n",
       "      <td>1</td>\n",
       "      <td>-1.637643</td>\n",
       "      <td>-1.550588</td>\n",
       "      <td>-2.771424</td>\n",
       "      <td>-1.402260</td>\n",
       "      <td>1.475592</td>\n",
       "      <td>3.591698</td>\n",
       "      <td>-2.362273</td>\n",
       "      <td>2</td>\n",
       "      <td>1.479309</td>\n",
       "      <td>0.869486</td>\n",
       "      <td>-2.112662</td>\n",
       "      <td>-1.466515</td>\n",
       "      <td>0.0</td>\n",
       "      <td>0.0</td>\n",
       "      <td>0.0</td>\n",
       "      <td>0.0</td>\n",
       "      <td>0.0</td>\n",
       "      <td>0.0</td>\n",
       "      <td>1.0</td>\n",
       "      <td>0.0</td>\n",
       "      <td>0.0</td>\n",
       "      <td>0.0</td>\n",
       "      <td>0.0</td>\n",
       "      <td>0.0</td>\n",
       "      <td>0.0</td>\n",
       "      <td>1.0</td>\n",
       "      <td>0.0</td>\n",
       "      <td>0.0</td>\n",
       "      <td>1.0</td>\n",
       "      <td>0.0</td>\n",
       "      <td>0.0</td>\n",
       "      <td>0.0</td>\n",
       "      <td>1.0</td>\n",
       "    </tr>\n",
       "    <tr>\n",
       "      <th>4</th>\n",
       "      <td>1</td>\n",
       "      <td>-1.637643</td>\n",
       "      <td>-1.550588</td>\n",
       "      <td>-2.771424</td>\n",
       "      <td>-1.402260</td>\n",
       "      <td>1.475592</td>\n",
       "      <td>3.591698</td>\n",
       "      <td>-2.362273</td>\n",
       "      <td>2</td>\n",
       "      <td>1.479309</td>\n",
       "      <td>0.869486</td>\n",
       "      <td>-2.112662</td>\n",
       "      <td>-1.466515</td>\n",
       "      <td>0.0</td>\n",
       "      <td>0.0</td>\n",
       "      <td>0.0</td>\n",
       "      <td>0.0</td>\n",
       "      <td>0.0</td>\n",
       "      <td>0.0</td>\n",
       "      <td>1.0</td>\n",
       "      <td>0.0</td>\n",
       "      <td>0.0</td>\n",
       "      <td>0.0</td>\n",
       "      <td>0.0</td>\n",
       "      <td>0.0</td>\n",
       "      <td>0.0</td>\n",
       "      <td>1.0</td>\n",
       "      <td>0.0</td>\n",
       "      <td>0.0</td>\n",
       "      <td>1.0</td>\n",
       "      <td>0.0</td>\n",
       "      <td>0.0</td>\n",
       "      <td>0.0</td>\n",
       "      <td>1.0</td>\n",
       "    </tr>\n",
       "  </tbody>\n",
       "</table>\n",
       "</div>"
      ],
      "text/plain": [
       "   GENDER       AGE  SLEEP DURATION  QUALITY OF SLEEP  PHYSICAL ACTIVITY LEVEL  STRESS LEVEL  HEART RATE  DAILY STEPS  SLEEP DISORDER  SYSTOLIC  DIASTOLIC  SLEEP QUALITY SCORE  ACTIVITY SCORE  OCCUPATION_Accountant  OCCUPATION_Doctor  OCCUPATION_Engineer  OCCUPATION_Lawyer  OCCUPATION_Manager  OCCUPATION_Nurse  OCCUPATION_Sales Representative  OCCUPATION_Salesperson  OCCUPATION_Scientist  OCCUPATION_Software Engineer  OCCUPATION_Teacher  BMI CATEGORY_Normal  BMI CATEGORY_Normal Weight  \\\n",
       "0       1 -1.753096       -1.298887         -1.098280                -0.825418      0.347021    1.654719    -1.619584               0 -0.330002  -0.268102            -1.178322       -1.093115                    0.0                0.0                  0.0                0.0                 0.0               0.0                              0.0                     0.0                   0.0                           1.0                 0.0                  0.0                         0.0   \n",
       "1       1 -1.637643       -1.173036         -1.098280                 0.039844      1.475592    1.170474     1.970077               0 -0.459239  -0.755640            -1.135199        0.737579                    0.0                1.0                  0.0                0.0                 0.0               0.0                              0.0                     0.0                   0.0                           0.0                 0.0                  1.0                         0.0   \n",
       "2       1 -1.637643       -1.173036         -1.098280                 0.039844      1.475592    1.170474     1.970077               0 -0.459239  -0.755640            -1.135199        0.737579                    0.0                1.0                  0.0                0.0                 0.0               0.0                              0.0                     0.0                   0.0                           0.0                 0.0                  1.0                         0.0   \n",
       "3       1 -1.637643       -1.550588         -2.771424                -1.402260      1.475592    3.591698    -2.362273               2  1.479309   0.869486            -2.112662       -1.466515                    0.0                0.0                  0.0                0.0                 0.0               0.0                              1.0                     0.0                   0.0                           0.0                 0.0                  0.0                         0.0   \n",
       "4       1 -1.637643       -1.550588         -2.771424                -1.402260      1.475592    3.591698    -2.362273               2  1.479309   0.869486            -2.112662       -1.466515                    0.0                0.0                  0.0                0.0                 0.0               0.0                              1.0                     0.0                   0.0                           0.0                 0.0                  0.0                         0.0   \n",
       "\n",
       "   BMI CATEGORY_Obese  BMI CATEGORY_Overweight  BLOOD PRESSURE CATEGORY_Elevated  BLOOD PRESSURE CATEGORY_High Blood Pressure   BLOOD PRESSURE CATEGORY_Normal  NEW_AGE_CAT_middleage  NEW_AGE_CAT_old  NEW_AGE_CAT_young  \n",
       "0                 0.0                      1.0                               0.0                                           1.0                             0.0                    0.0              0.0                1.0  \n",
       "1                 0.0                      0.0                               0.0                                           1.0                             0.0                    0.0              0.0                1.0  \n",
       "2                 0.0                      0.0                               0.0                                           1.0                             0.0                    0.0              0.0                1.0  \n",
       "3                 1.0                      0.0                               0.0                                           1.0                             0.0                    0.0              0.0                1.0  \n",
       "4                 1.0                      0.0                               0.0                                           1.0                             0.0                    0.0              0.0                1.0  "
      ]
     },
     "execution_count": 37,
     "metadata": {},
     "output_type": "execute_result"
    }
   ],
   "source": [
    "data.head()"
   ]
  },
  {
   "cell_type": "code",
   "execution_count": 38,
   "metadata": {},
   "outputs": [
    {
     "data": {
      "text/plain": [
       "GENDER                                          0\n",
       "AGE                                             0\n",
       "SLEEP DURATION                                  0\n",
       "QUALITY OF SLEEP                                0\n",
       "PHYSICAL ACTIVITY LEVEL                         0\n",
       "STRESS LEVEL                                    0\n",
       "HEART RATE                                      0\n",
       "DAILY STEPS                                     0\n",
       "SLEEP DISORDER                                  0\n",
       "SYSTOLIC                                        0\n",
       "DIASTOLIC                                       0\n",
       "SLEEP QUALITY SCORE                             0\n",
       "ACTIVITY SCORE                                  0\n",
       "OCCUPATION_Accountant                           0\n",
       "OCCUPATION_Doctor                               0\n",
       "OCCUPATION_Engineer                             0\n",
       "OCCUPATION_Lawyer                               0\n",
       "OCCUPATION_Manager                              0\n",
       "OCCUPATION_Nurse                                0\n",
       "OCCUPATION_Sales Representative                 0\n",
       "OCCUPATION_Salesperson                          0\n",
       "OCCUPATION_Scientist                            0\n",
       "OCCUPATION_Software Engineer                    0\n",
       "OCCUPATION_Teacher                              0\n",
       "BMI CATEGORY_Normal                             0\n",
       "BMI CATEGORY_Normal Weight                      0\n",
       "BMI CATEGORY_Obese                              0\n",
       "BMI CATEGORY_Overweight                         0\n",
       "BLOOD PRESSURE CATEGORY_Elevated                0\n",
       "BLOOD PRESSURE CATEGORY_High Blood Pressure     0\n",
       "BLOOD PRESSURE CATEGORY_Normal                  0\n",
       "NEW_AGE_CAT_middleage                           0\n",
       "NEW_AGE_CAT_old                                 0\n",
       "NEW_AGE_CAT_young                               0\n",
       "dtype: int64"
      ]
     },
     "execution_count": 38,
     "metadata": {},
     "output_type": "execute_result"
    }
   ],
   "source": [
    "data.isnull().sum()"
   ]
  },
  {
   "cell_type": "code",
   "execution_count": 39,
   "metadata": {},
   "outputs": [
    {
     "data": {
      "text/plain": [
       "Index(['GENDER', 'AGE', 'SLEEP DURATION', 'QUALITY OF SLEEP', 'PHYSICAL ACTIVITY LEVEL', 'STRESS LEVEL', 'HEART RATE', 'DAILY STEPS', 'SLEEP DISORDER', 'SYSTOLIC', 'DIASTOLIC', 'SLEEP QUALITY SCORE', 'ACTIVITY SCORE', 'OCCUPATION_Accountant', 'OCCUPATION_Doctor', 'OCCUPATION_Engineer', 'OCCUPATION_Lawyer', 'OCCUPATION_Manager', 'OCCUPATION_Nurse', 'OCCUPATION_Sales Representative', 'OCCUPATION_Salesperson', 'OCCUPATION_Scientist', 'OCCUPATION_Software Engineer', 'OCCUPATION_Teacher',\n",
       "       'BMI CATEGORY_Normal', 'BMI CATEGORY_Normal Weight', 'BMI CATEGORY_Obese', 'BMI CATEGORY_Overweight', 'BLOOD PRESSURE CATEGORY_Elevated', 'BLOOD PRESSURE CATEGORY_High Blood Pressure ', 'BLOOD PRESSURE CATEGORY_Normal', 'NEW_AGE_CAT_middleage', 'NEW_AGE_CAT_old', 'NEW_AGE_CAT_young'],\n",
       "      dtype='object')"
      ]
     },
     "execution_count": 39,
     "metadata": {},
     "output_type": "execute_result"
    }
   ],
   "source": [
    "data.columns"
   ]
  },
  {
   "cell_type": "code",
   "execution_count": 40,
   "metadata": {},
   "outputs": [
    {
     "data": {
      "text/plain": [
       "Index(['GENDER', 'AGE', 'SLEEP DURATION', 'QUALITY OF SLEEP', 'PHYSICAL ACTIVITY LEVEL', 'STRESS LEVEL', 'HEART RATE', 'DAILY STEPS', 'SLEEP DISORDER', 'SYSTOLIC', 'DIASTOLIC', 'SLEEP QUALITY SCORE', 'ACTIVITY SCORE', 'OCCUPATION_Accountant', 'OCCUPATION_Doctor', 'OCCUPATION_Engineer', 'OCCUPATION_Lawyer', 'OCCUPATION_Manager', 'OCCUPATION_Nurse', 'OCCUPATION_Sales Representative', 'OCCUPATION_Salesperson', 'OCCUPATION_Scientist', 'OCCUPATION_Software Engineer', 'OCCUPATION_Teacher',\n",
       "       'BMI CATEGORY_Normal', 'BMI CATEGORY_Normal Weight', 'BMI CATEGORY_Obese', 'BMI CATEGORY_Overweight', 'BLOOD PRESSURE CATEGORY_Elevated', 'BLOOD PRESSURE CATEGORY_High Blood Pressure ', 'BLOOD PRESSURE CATEGORY_Normal', 'NEW_AGE_CAT_middleage', 'NEW_AGE_CAT_old', 'NEW_AGE_CAT_young'],\n",
       "      dtype='object')"
      ]
     },
     "execution_count": 40,
     "metadata": {},
     "output_type": "execute_result"
    }
   ],
   "source": [
    "data.columns"
   ]
  },
  {
   "cell_type": "code",
   "execution_count": 41,
   "metadata": {},
   "outputs": [],
   "source": [
    "\n",
    "\n",
    "column_order = [\n",
    "    \"GENDER\", \"AGE\", \"SLEEP DURATION\", \"QUALITY OF SLEEP\", \"PHYSICAL ACTIVITY LEVEL\", \n",
    "    \"STRESS LEVEL\", \"HEART RATE\", \"DAILY STEPS\", \"SLEEP DISORDER\", \"SYSTOLIC\", \n",
    "    \"DIASTOLIC\", \"SLEEP QUALITY SCORE\", \"ACTIVITY SCORE\", \"OCCUPATION_Accountant\", \n",
    "    \"OCCUPATION_Doctor\", \"OCCUPATION_Engineer\", \"OCCUPATION_Lawyer\", \n",
    "    \"OCCUPATION_Manager\", \"OCCUPATION_Nurse\", \"OCCUPATION_Sales Representative\", \n",
    "    \"OCCUPATION_Salesperson\", \"OCCUPATION_Scientist\", \"OCCUPATION_Software Engineer\", \n",
    "    \"OCCUPATION_Teacher\", \"BMI CATEGORY_Normal\", \"BMI CATEGORY_Normal Weight\", \n",
    "    \"BMI CATEGORY_Obese\", \"BMI CATEGORY_Overweight\", \n",
    "    \"BLOOD PRESSURE CATEGORY_Elevated\", \"BLOOD PRESSURE CATEGORY_High Blood Pressure \",\n",
    "    \"BLOOD PRESSURE CATEGORY_Normal\", \"NEW_AGE_CAT_middleage\", \"NEW_AGE_CAT_old\", \n",
    "    \"NEW_AGE_CAT_young\"\n",
    "]\n",
    "\n",
    "# Modeldeki sıralamayı temsil eden column_order listesini kullanarak sıralama yapın\n",
    "data = data[column_order]"
   ]
  },
  {
   "cell_type": "code",
   "execution_count": 42,
   "metadata": {},
   "outputs": [
    {
     "data": {
      "text/html": [
       "<div>\n",
       "<style scoped>\n",
       "    .dataframe tbody tr th:only-of-type {\n",
       "        vertical-align: middle;\n",
       "    }\n",
       "\n",
       "    .dataframe tbody tr th {\n",
       "        vertical-align: top;\n",
       "    }\n",
       "\n",
       "    .dataframe thead th {\n",
       "        text-align: right;\n",
       "    }\n",
       "</style>\n",
       "<table border=\"1\" class=\"dataframe\">\n",
       "  <thead>\n",
       "    <tr style=\"text-align: right;\">\n",
       "      <th></th>\n",
       "      <th>GENDER</th>\n",
       "      <th>AGE</th>\n",
       "      <th>SLEEP DURATION</th>\n",
       "      <th>QUALITY OF SLEEP</th>\n",
       "      <th>PHYSICAL ACTIVITY LEVEL</th>\n",
       "      <th>STRESS LEVEL</th>\n",
       "      <th>HEART RATE</th>\n",
       "      <th>DAILY STEPS</th>\n",
       "      <th>SLEEP DISORDER</th>\n",
       "      <th>SYSTOLIC</th>\n",
       "      <th>DIASTOLIC</th>\n",
       "      <th>SLEEP QUALITY SCORE</th>\n",
       "      <th>ACTIVITY SCORE</th>\n",
       "      <th>OCCUPATION_Accountant</th>\n",
       "      <th>OCCUPATION_Doctor</th>\n",
       "      <th>OCCUPATION_Engineer</th>\n",
       "      <th>OCCUPATION_Lawyer</th>\n",
       "      <th>OCCUPATION_Manager</th>\n",
       "      <th>OCCUPATION_Nurse</th>\n",
       "      <th>OCCUPATION_Sales Representative</th>\n",
       "      <th>OCCUPATION_Salesperson</th>\n",
       "      <th>OCCUPATION_Scientist</th>\n",
       "      <th>OCCUPATION_Software Engineer</th>\n",
       "      <th>OCCUPATION_Teacher</th>\n",
       "      <th>BMI CATEGORY_Normal</th>\n",
       "      <th>BMI CATEGORY_Normal Weight</th>\n",
       "      <th>BMI CATEGORY_Obese</th>\n",
       "      <th>BMI CATEGORY_Overweight</th>\n",
       "      <th>BLOOD PRESSURE CATEGORY_Elevated</th>\n",
       "      <th>BLOOD PRESSURE CATEGORY_High Blood Pressure</th>\n",
       "      <th>BLOOD PRESSURE CATEGORY_Normal</th>\n",
       "      <th>NEW_AGE_CAT_middleage</th>\n",
       "      <th>NEW_AGE_CAT_old</th>\n",
       "      <th>NEW_AGE_CAT_young</th>\n",
       "    </tr>\n",
       "  </thead>\n",
       "  <tbody>\n",
       "    <tr>\n",
       "      <th>0</th>\n",
       "      <td>1</td>\n",
       "      <td>-1.753096</td>\n",
       "      <td>-1.298887</td>\n",
       "      <td>-1.098280</td>\n",
       "      <td>-0.825418</td>\n",
       "      <td>0.347021</td>\n",
       "      <td>1.654719</td>\n",
       "      <td>-1.619584</td>\n",
       "      <td>0</td>\n",
       "      <td>-0.330002</td>\n",
       "      <td>-0.268102</td>\n",
       "      <td>-1.178322</td>\n",
       "      <td>-1.093115</td>\n",
       "      <td>0.0</td>\n",
       "      <td>0.0</td>\n",
       "      <td>0.0</td>\n",
       "      <td>0.0</td>\n",
       "      <td>0.0</td>\n",
       "      <td>0.0</td>\n",
       "      <td>0.0</td>\n",
       "      <td>0.0</td>\n",
       "      <td>0.0</td>\n",
       "      <td>1.0</td>\n",
       "      <td>0.0</td>\n",
       "      <td>0.0</td>\n",
       "      <td>0.0</td>\n",
       "      <td>0.0</td>\n",
       "      <td>1.0</td>\n",
       "      <td>0.0</td>\n",
       "      <td>1.0</td>\n",
       "      <td>0.0</td>\n",
       "      <td>0.0</td>\n",
       "      <td>0.0</td>\n",
       "      <td>1.0</td>\n",
       "    </tr>\n",
       "    <tr>\n",
       "      <th>1</th>\n",
       "      <td>1</td>\n",
       "      <td>-1.637643</td>\n",
       "      <td>-1.173036</td>\n",
       "      <td>-1.098280</td>\n",
       "      <td>0.039844</td>\n",
       "      <td>1.475592</td>\n",
       "      <td>1.170474</td>\n",
       "      <td>1.970077</td>\n",
       "      <td>0</td>\n",
       "      <td>-0.459239</td>\n",
       "      <td>-0.755640</td>\n",
       "      <td>-1.135199</td>\n",
       "      <td>0.737579</td>\n",
       "      <td>0.0</td>\n",
       "      <td>1.0</td>\n",
       "      <td>0.0</td>\n",
       "      <td>0.0</td>\n",
       "      <td>0.0</td>\n",
       "      <td>0.0</td>\n",
       "      <td>0.0</td>\n",
       "      <td>0.0</td>\n",
       "      <td>0.0</td>\n",
       "      <td>0.0</td>\n",
       "      <td>0.0</td>\n",
       "      <td>1.0</td>\n",
       "      <td>0.0</td>\n",
       "      <td>0.0</td>\n",
       "      <td>0.0</td>\n",
       "      <td>0.0</td>\n",
       "      <td>1.0</td>\n",
       "      <td>0.0</td>\n",
       "      <td>0.0</td>\n",
       "      <td>0.0</td>\n",
       "      <td>1.0</td>\n",
       "    </tr>\n",
       "    <tr>\n",
       "      <th>2</th>\n",
       "      <td>1</td>\n",
       "      <td>-1.637643</td>\n",
       "      <td>-1.173036</td>\n",
       "      <td>-1.098280</td>\n",
       "      <td>0.039844</td>\n",
       "      <td>1.475592</td>\n",
       "      <td>1.170474</td>\n",
       "      <td>1.970077</td>\n",
       "      <td>0</td>\n",
       "      <td>-0.459239</td>\n",
       "      <td>-0.755640</td>\n",
       "      <td>-1.135199</td>\n",
       "      <td>0.737579</td>\n",
       "      <td>0.0</td>\n",
       "      <td>1.0</td>\n",
       "      <td>0.0</td>\n",
       "      <td>0.0</td>\n",
       "      <td>0.0</td>\n",
       "      <td>0.0</td>\n",
       "      <td>0.0</td>\n",
       "      <td>0.0</td>\n",
       "      <td>0.0</td>\n",
       "      <td>0.0</td>\n",
       "      <td>0.0</td>\n",
       "      <td>1.0</td>\n",
       "      <td>0.0</td>\n",
       "      <td>0.0</td>\n",
       "      <td>0.0</td>\n",
       "      <td>0.0</td>\n",
       "      <td>1.0</td>\n",
       "      <td>0.0</td>\n",
       "      <td>0.0</td>\n",
       "      <td>0.0</td>\n",
       "      <td>1.0</td>\n",
       "    </tr>\n",
       "    <tr>\n",
       "      <th>3</th>\n",
       "      <td>1</td>\n",
       "      <td>-1.637643</td>\n",
       "      <td>-1.550588</td>\n",
       "      <td>-2.771424</td>\n",
       "      <td>-1.402260</td>\n",
       "      <td>1.475592</td>\n",
       "      <td>3.591698</td>\n",
       "      <td>-2.362273</td>\n",
       "      <td>2</td>\n",
       "      <td>1.479309</td>\n",
       "      <td>0.869486</td>\n",
       "      <td>-2.112662</td>\n",
       "      <td>-1.466515</td>\n",
       "      <td>0.0</td>\n",
       "      <td>0.0</td>\n",
       "      <td>0.0</td>\n",
       "      <td>0.0</td>\n",
       "      <td>0.0</td>\n",
       "      <td>0.0</td>\n",
       "      <td>1.0</td>\n",
       "      <td>0.0</td>\n",
       "      <td>0.0</td>\n",
       "      <td>0.0</td>\n",
       "      <td>0.0</td>\n",
       "      <td>0.0</td>\n",
       "      <td>0.0</td>\n",
       "      <td>1.0</td>\n",
       "      <td>0.0</td>\n",
       "      <td>0.0</td>\n",
       "      <td>1.0</td>\n",
       "      <td>0.0</td>\n",
       "      <td>0.0</td>\n",
       "      <td>0.0</td>\n",
       "      <td>1.0</td>\n",
       "    </tr>\n",
       "    <tr>\n",
       "      <th>4</th>\n",
       "      <td>1</td>\n",
       "      <td>-1.637643</td>\n",
       "      <td>-1.550588</td>\n",
       "      <td>-2.771424</td>\n",
       "      <td>-1.402260</td>\n",
       "      <td>1.475592</td>\n",
       "      <td>3.591698</td>\n",
       "      <td>-2.362273</td>\n",
       "      <td>2</td>\n",
       "      <td>1.479309</td>\n",
       "      <td>0.869486</td>\n",
       "      <td>-2.112662</td>\n",
       "      <td>-1.466515</td>\n",
       "      <td>0.0</td>\n",
       "      <td>0.0</td>\n",
       "      <td>0.0</td>\n",
       "      <td>0.0</td>\n",
       "      <td>0.0</td>\n",
       "      <td>0.0</td>\n",
       "      <td>1.0</td>\n",
       "      <td>0.0</td>\n",
       "      <td>0.0</td>\n",
       "      <td>0.0</td>\n",
       "      <td>0.0</td>\n",
       "      <td>0.0</td>\n",
       "      <td>0.0</td>\n",
       "      <td>1.0</td>\n",
       "      <td>0.0</td>\n",
       "      <td>0.0</td>\n",
       "      <td>1.0</td>\n",
       "      <td>0.0</td>\n",
       "      <td>0.0</td>\n",
       "      <td>0.0</td>\n",
       "      <td>1.0</td>\n",
       "    </tr>\n",
       "  </tbody>\n",
       "</table>\n",
       "</div>"
      ],
      "text/plain": [
       "   GENDER       AGE  SLEEP DURATION  QUALITY OF SLEEP  PHYSICAL ACTIVITY LEVEL  STRESS LEVEL  HEART RATE  DAILY STEPS  SLEEP DISORDER  SYSTOLIC  DIASTOLIC  SLEEP QUALITY SCORE  ACTIVITY SCORE  OCCUPATION_Accountant  OCCUPATION_Doctor  OCCUPATION_Engineer  OCCUPATION_Lawyer  OCCUPATION_Manager  OCCUPATION_Nurse  OCCUPATION_Sales Representative  OCCUPATION_Salesperson  OCCUPATION_Scientist  OCCUPATION_Software Engineer  OCCUPATION_Teacher  BMI CATEGORY_Normal  BMI CATEGORY_Normal Weight  \\\n",
       "0       1 -1.753096       -1.298887         -1.098280                -0.825418      0.347021    1.654719    -1.619584               0 -0.330002  -0.268102            -1.178322       -1.093115                    0.0                0.0                  0.0                0.0                 0.0               0.0                              0.0                     0.0                   0.0                           1.0                 0.0                  0.0                         0.0   \n",
       "1       1 -1.637643       -1.173036         -1.098280                 0.039844      1.475592    1.170474     1.970077               0 -0.459239  -0.755640            -1.135199        0.737579                    0.0                1.0                  0.0                0.0                 0.0               0.0                              0.0                     0.0                   0.0                           0.0                 0.0                  1.0                         0.0   \n",
       "2       1 -1.637643       -1.173036         -1.098280                 0.039844      1.475592    1.170474     1.970077               0 -0.459239  -0.755640            -1.135199        0.737579                    0.0                1.0                  0.0                0.0                 0.0               0.0                              0.0                     0.0                   0.0                           0.0                 0.0                  1.0                         0.0   \n",
       "3       1 -1.637643       -1.550588         -2.771424                -1.402260      1.475592    3.591698    -2.362273               2  1.479309   0.869486            -2.112662       -1.466515                    0.0                0.0                  0.0                0.0                 0.0               0.0                              1.0                     0.0                   0.0                           0.0                 0.0                  0.0                         0.0   \n",
       "4       1 -1.637643       -1.550588         -2.771424                -1.402260      1.475592    3.591698    -2.362273               2  1.479309   0.869486            -2.112662       -1.466515                    0.0                0.0                  0.0                0.0                 0.0               0.0                              1.0                     0.0                   0.0                           0.0                 0.0                  0.0                         0.0   \n",
       "\n",
       "   BMI CATEGORY_Obese  BMI CATEGORY_Overweight  BLOOD PRESSURE CATEGORY_Elevated  BLOOD PRESSURE CATEGORY_High Blood Pressure   BLOOD PRESSURE CATEGORY_Normal  NEW_AGE_CAT_middleage  NEW_AGE_CAT_old  NEW_AGE_CAT_young  \n",
       "0                 0.0                      1.0                               0.0                                           1.0                             0.0                    0.0              0.0                1.0  \n",
       "1                 0.0                      0.0                               0.0                                           1.0                             0.0                    0.0              0.0                1.0  \n",
       "2                 0.0                      0.0                               0.0                                           1.0                             0.0                    0.0              0.0                1.0  \n",
       "3                 1.0                      0.0                               0.0                                           1.0                             0.0                    0.0              0.0                1.0  \n",
       "4                 1.0                      0.0                               0.0                                           1.0                             0.0                    0.0              0.0                1.0  "
      ]
     },
     "execution_count": 42,
     "metadata": {},
     "output_type": "execute_result"
    }
   ],
   "source": [
    "data.head()"
   ]
  },
  {
   "cell_type": "code",
   "execution_count": 43,
   "metadata": {},
   "outputs": [
    {
     "data": {
      "text/plain": [
       "SLEEP DISORDER\n",
       "0    219\n",
       "2     78\n",
       "1     77\n",
       "Name: count, dtype: int64"
      ]
     },
     "execution_count": 43,
     "metadata": {},
     "output_type": "execute_result"
    }
   ],
   "source": [
    "data[\"SLEEP DISORDER\"].value_counts()"
   ]
  },
  {
   "cell_type": "code",
   "execution_count": 44,
   "metadata": {},
   "outputs": [],
   "source": [
    "from sklearn.utils import resample\n",
    "\n",
    "\n",
    "# En az örnek sayısına sahip olan sınıfı bulma\n",
    "min_class = data[\"SLEEP DISORDER\"].value_counts().idxmin()\n",
    "\n",
    "# Her sınıftan 100'ünü rastgele seçerek eşitleme\n",
    "data = pd.concat([resample(data[data['SLEEP DISORDER'] == c], n_samples=77, replace=False) for c in data['SLEEP DISORDER'].unique() if c != min_class] + [data[data['SLEEP DISORDER'] == min_class]])"
   ]
  },
  {
   "cell_type": "code",
   "execution_count": 45,
   "metadata": {},
   "outputs": [
    {
     "name": "stdout",
     "output_type": "stream",
     "text": [
      "SLEEP DISORDER\n",
      "0    77\n",
      "2    77\n",
      "1    77\n",
      "Name: count, dtype: int64\n"
     ]
    }
   ],
   "source": [
    "sleep_disorder_counts = data[\"SLEEP DISORDER\"].value_counts()\n",
    "print(sleep_disorder_counts)\n"
   ]
  },
  {
   "cell_type": "code",
   "execution_count": 46,
   "metadata": {},
   "outputs": [],
   "source": [
    "\n",
    "from sklearn.model_selection import train_test_split\n",
    "from sklearn.ensemble import StackingClassifier\n",
    "from sklearn.tree import DecisionTreeClassifier\n",
    "from sklearn.ensemble import RandomForestClassifier\n",
    "from sklearn.svm import SVC\n",
    "from sklearn.linear_model import LogisticRegression\n",
    "from sklearn.metrics import accuracy_score"
   ]
  },
  {
   "cell_type": "code",
   "execution_count": 47,
   "metadata": {},
   "outputs": [],
   "source": [
    "\n",
    "\n",
    "X = data.drop(\"SLEEP DISORDER\",axis = 1)\n",
    "y = data[\"SLEEP DISORDER\"]\n",
    "# Veriyi eğitim ve test kümelerine ayırma\n",
    "X_train, X_test, y_train, y_test = train_test_split(X, y, test_size=0.2, random_state=42)\n",
    "\n",
    "\n",
    "# Decision Tree için hiperparametre aralıkları\n",
    "dt_param_grid = {\n",
    "    'max_depth': [5, 10, 15],\n",
    "    'min_samples_split': [2, 5, 10],\n",
    "    'min_samples_leaf': [1, 2, 4]\n",
    "}\n",
    "\n",
    "# Random Forest için hiperparametre aralıkları\n",
    "rf_param_grid = {\n",
    "    'n_estimators': [50, 100, 150],\n",
    "    'max_depth': [10, 20, 30],\n",
    "    'min_samples_split': [2, 5, 10],\n",
    "    'min_samples_leaf': [1, 2, 4]\n",
    "}\n",
    "\n",
    "# SVM için hiperparametre aralıkları\n",
    "svm_param_grid = {\n",
    "    'C': [0.1, 1, 10],\n",
    "    'kernel': ['linear', 'rbf', 'poly'],\n",
    "    'gamma': ['scale', 'auto']\n",
    "}\n",
    "\n",
    "# GridSearchCV ile temel modellerin optimizasyonu\n",
    "dt_grid_search = GridSearchCV(DecisionTreeClassifier(), dt_param_grid, cv=5)\n",
    "dt_grid_search.fit(X_train, y_train)\n",
    "best_decision_tree_model = dt_grid_search.best_estimator_\n",
    "\n",
    "rf_grid_search = GridSearchCV(RandomForestClassifier(), rf_param_grid, cv=5)\n",
    "rf_grid_search.fit(X_train, y_train)\n",
    "best_random_forest_model = rf_grid_search.best_estimator_\n",
    "\n",
    "svm_grid_search = GridSearchCV(SVC(), svm_param_grid, cv=5)\n",
    "svm_grid_search.fit(X_train, y_train)\n",
    "best_svm_model = svm_grid_search.best_estimator_"
   ]
  },
  {
   "cell_type": "code",
   "execution_count": 48,
   "metadata": {},
   "outputs": [
    {
     "name": "stdout",
     "output_type": "stream",
     "text": [
      "Stacking Model Accuracy on Test Set: 0.9361702127659575\n"
     ]
    }
   ],
   "source": [
    "# Temel modellerin tanımlanması\n",
    "base_models = [\n",
    "    ('decision_tree', best_decision_tree_model),\n",
    "    ('random_forest', best_random_forest_model),\n",
    "    ('svm', best_svm_model)\n",
    "]\n",
    "\n",
    "# Stacking modelin tanımlanması\n",
    "stacking_model = StackingClassifier(\n",
    "    estimators=base_models,\n",
    "    final_estimator=LogisticRegression(),\n",
    "    stack_method='auto',\n",
    "    cv=5\n",
    ")\n",
    "\n",
    "# Stacking modelinin eğitilmesi\n",
    "stacking_model.fit(X_train, y_train)\n",
    "\n",
    "# Test verisi üzerinde tahmin yapma\n",
    "stacking_predictions = stacking_model.predict(X_test)\n",
    "\n",
    "# Stacking modelinin başarısının değerlendirilmesi\n",
    "stacking_accuracy = accuracy_score(y_test, stacking_predictions)\n",
    "print(\"Stacking Model Accuracy on Test Set:\", stacking_accuracy)\n"
   ]
  },
  {
   "cell_type": "code",
   "execution_count": 49,
   "metadata": {},
   "outputs": [],
   "source": [
    "# Stacking modelinin eğitilmesi\n",
    "stacking_model = stacking_model.fit(X, y)"
   ]
  },
  {
   "cell_type": "code",
   "execution_count": 50,
   "metadata": {},
   "outputs": [
    {
     "data": {
      "text/plain": [
       "['stacking_model.joblib']"
      ]
     },
     "execution_count": 50,
     "metadata": {},
     "output_type": "execute_result"
    }
   ],
   "source": [
    "import joblib\n",
    "\n",
    "# Stacking modelini kaydetme\n",
    "joblib.dump(stacking_model, 'stacking_model.joblib')\n"
   ]
  },
  {
   "cell_type": "code",
   "execution_count": 51,
   "metadata": {},
   "outputs": [
    {
     "name": "stdout",
     "output_type": "stream",
     "text": [
      "Ensemble Model Accuracy: 0.8723404255319149\n"
     ]
    }
   ],
   "source": [
    "\n",
    "X = data.drop(\"SLEEP DISORDER\",axis = 1)\n",
    "y = data[\"SLEEP DISORDER\"]\n",
    "# Veriyi eğitim ve test kümelerine ayırma\n",
    "X_train, X_test, y_train, y_test = train_test_split(X, y, test_size=0.2, random_state=42)\n",
    "\n",
    "from sklearn.model_selection import GridSearchCV\n",
    "\n",
    "# Decision Tree için hiperparametre aralıkları\n",
    "dt_param_grid = {\n",
    "    'max_depth': [5, 10, 15],\n",
    "    'min_samples_split': [2, 5, 10],\n",
    "    'min_samples_leaf': [1, 2, 4]\n",
    "}\n",
    "\n",
    "# Random Forest için hiperparametre aralıkları\n",
    "rf_param_grid = {\n",
    "    'n_estimators': [50, 100, 150],\n",
    "    'max_depth': [10, 20, 30],\n",
    "    'min_samples_split': [2, 5, 10],\n",
    "    'min_samples_leaf': [1, 2, 4]\n",
    "}\n",
    "\n",
    "# Decision Tree için GridSearchCV\n",
    "dt_grid_search = GridSearchCV(DecisionTreeClassifier(), dt_param_grid, cv=5)\n",
    "dt_grid_search.fit(X_train, y_train)\n",
    "best_decision_tree_model = dt_grid_search.best_estimator_\n",
    "\n",
    "# Random Forest için GridSearchCV\n",
    "rf_grid_search = GridSearchCV(RandomForestClassifier(), rf_param_grid, cv=5)\n",
    "rf_grid_search.fit(X_train, y_train)\n",
    "best_random_forest_model = rf_grid_search.best_estimator_\n",
    "\n",
    "# Ensemble modeli oluşturma (VotingClassifier kullanarak)\n",
    "ensemble_model = VotingClassifier(estimators=[\n",
    "    ('decision_tree', best_decision_tree_model),\n",
    "    ('random_forest', best_random_forest_model)\n",
    "], voting='hard')\n",
    "\n",
    "# Ensemble modelini eğitme\n",
    "ensemble_model.fit(X_train, y_train)\n",
    "\n",
    "# Test verisi üzerinde tahmin yapma\n",
    "predictions = ensemble_model.predict(X_test)\n",
    "\n",
    "# Ensemble modelin başarısını değerlendirme\n",
    "accuracy = accuracy_score(y_test, predictions)\n",
    "print(\"Ensemble Model Accuracy:\", accuracy)\n"
   ]
  },
  {
   "cell_type": "code",
   "execution_count": 52,
   "metadata": {},
   "outputs": [
    {
     "name": "stdout",
     "output_type": "stream",
     "text": [
      "Ensemble Model Accuracy: 0.9361702127659575\n"
     ]
    }
   ],
   "source": [
    "\n",
    "# SVM için hiperparametre aralıkları\n",
    "svm_param_grid = {\n",
    "    'C': [0.1, 1, 10],\n",
    "    'kernel': ['linear', 'rbf', 'poly'],\n",
    "    'gamma': ['scale', 'auto']\n",
    "}\n",
    "\n",
    "# SVM için GridSearchCV\n",
    "svm_grid_search = GridSearchCV(SVC(), svm_param_grid, cv=5)\n",
    "svm_grid_search.fit(X_train, y_train)\n",
    "best_svm_model = svm_grid_search.best_estimator_\n",
    "\n",
    "# Ensemble modelini oluşturma (VotingClassifier kullanarak)\n",
    "ensemble_model = VotingClassifier(estimators=[\n",
    "    ('decision_tree', best_decision_tree_model),\n",
    "    ('random_forest', best_random_forest_model),\n",
    "    ('svm', best_svm_model)\n",
    "], voting='hard')\n",
    "\n",
    "# Ensemble modelini eğitme\n",
    "ensemble_model.fit(X_train, y_train)\n",
    "\n",
    "# Test verisi üzerinde tahmin yapma\n",
    "predictions = ensemble_model.predict(X_test)\n",
    "\n",
    "# Ensemble modelin başarısını değerlendirme\n",
    "accuracy = accuracy_score(y_test, predictions)\n",
    "print(\"Ensemble Model Accuracy:\", accuracy)"
   ]
  },
  {
   "cell_type": "code",
   "execution_count": 53,
   "metadata": {},
   "outputs": [
    {
     "name": "stdout",
     "output_type": "stream",
     "text": [
      "Ensemble Model Accuracy: 0.9361702127659575\n"
     ]
    }
   ],
   "source": [
    "\n",
    "# Hiperparametre optimizasyonu sonucu elde edilen en iyi Gradient Boosting modeli\n",
    "best_gradient_boosting_model = GradientBoostingClassifier(n_estimators=100, learning_rate=0.1, max_depth=3)\n",
    "\n",
    "# Ensemble modelini oluşturma (VotingClassifier kullanarak)\n",
    "ensemble_model = VotingClassifier(estimators=[\n",
    "    ('decision_tree', best_decision_tree_model),\n",
    "    ('random_forest', best_random_forest_model),\n",
    "    ('svm', best_svm_model),\n",
    "    ('gradient_boosting', best_gradient_boosting_model)\n",
    "], voting='hard')\n",
    "\n",
    "# Ensemble modelini eğitme\n",
    "ensemble_model.fit(X_train, y_train)\n",
    "\n",
    "# Test verisi üzerinde tahmin yapma\n",
    "predictions = ensemble_model.predict(X_test)\n",
    "\n",
    "# Ensemble modelin başarısını değerlendirme\n",
    "accuracy = accuracy_score(y_test, predictions)\n",
    "print(\"Ensemble Model Accuracy:\", accuracy)"
   ]
  },
  {
   "cell_type": "code",
   "execution_count": 54,
   "metadata": {},
   "outputs": [
    {
     "data": {
      "text/plain": [
       "GENDER                                          0\n",
       "AGE                                             0\n",
       "SLEEP DURATION                                  0\n",
       "QUALITY OF SLEEP                                0\n",
       "PHYSICAL ACTIVITY LEVEL                         0\n",
       "STRESS LEVEL                                    0\n",
       "HEART RATE                                      0\n",
       "DAILY STEPS                                     0\n",
       "SLEEP DISORDER                                  0\n",
       "SYSTOLIC                                        0\n",
       "DIASTOLIC                                       0\n",
       "SLEEP QUALITY SCORE                             0\n",
       "ACTIVITY SCORE                                  0\n",
       "OCCUPATION_Accountant                           0\n",
       "OCCUPATION_Doctor                               0\n",
       "OCCUPATION_Engineer                             0\n",
       "OCCUPATION_Lawyer                               0\n",
       "OCCUPATION_Manager                              0\n",
       "OCCUPATION_Nurse                                0\n",
       "OCCUPATION_Sales Representative                 0\n",
       "OCCUPATION_Salesperson                          0\n",
       "OCCUPATION_Scientist                            0\n",
       "OCCUPATION_Software Engineer                    0\n",
       "OCCUPATION_Teacher                              0\n",
       "BMI CATEGORY_Normal                             0\n",
       "BMI CATEGORY_Normal Weight                      0\n",
       "BMI CATEGORY_Obese                              0\n",
       "BMI CATEGORY_Overweight                         0\n",
       "BLOOD PRESSURE CATEGORY_Elevated                0\n",
       "BLOOD PRESSURE CATEGORY_High Blood Pressure     0\n",
       "BLOOD PRESSURE CATEGORY_Normal                  0\n",
       "NEW_AGE_CAT_middleage                           0\n",
       "NEW_AGE_CAT_old                                 0\n",
       "NEW_AGE_CAT_young                               0\n",
       "dtype: int64"
      ]
     },
     "execution_count": 54,
     "metadata": {},
     "output_type": "execute_result"
    }
   ],
   "source": [
    "data.isnull().sum()"
   ]
  },
  {
   "cell_type": "code",
   "execution_count": 55,
   "metadata": {},
   "outputs": [],
   "source": [
    "X = data.drop(\"SLEEP DISORDER\",axis = 1)\n",
    "y = data[\"SLEEP DISORDER\"]"
   ]
  },
  {
   "cell_type": "code",
   "execution_count": 56,
   "metadata": {},
   "outputs": [
    {
     "name": "stdout",
     "output_type": "stream",
     "text": [
      "Optimizing SVC...\n",
      "Fitting 3 folds for each of 18 candidates, totalling 54 fits\n"
     ]
    },
    {
     "name": "stdout",
     "output_type": "stream",
     "text": [
      "SVC Accuracy on Test Set: 0.9149\n",
      "Best Parameters: {'C': 10, 'degree': 2, 'kernel': 'rbf'}\n",
      "==================================================\n",
      "Optimizing RandomForest...\n",
      "Fitting 3 folds for each of 9 candidates, totalling 27 fits\n",
      "RandomForest Accuracy on Test Set: 0.9149\n",
      "Best Parameters: {'max_depth': 5, 'n_estimators': 50}\n",
      "==================================================\n",
      "Optimizing LogisticRegression...\n",
      "Fitting 3 folds for each of 3 candidates, totalling 9 fits\n",
      "LogisticRegression Accuracy on Test Set: 0.9362\n",
      "Best Parameters: {'C': 10, 'max_iter': 1000}\n",
      "==================================================\n",
      "Optimizing XGBoost...\n",
      "Fitting 3 folds for each of 8 candidates, totalling 24 fits\n",
      "XGBoost Accuracy on Test Set: 0.8723\n",
      "Best Parameters: {'learning_rate': 0.1, 'max_depth': 8, 'n_estimators': 100}\n",
      "==================================================\n",
      "Optimizing GBM...\n",
      "Fitting 3 folds for each of 27 candidates, totalling 81 fits\n",
      "GBM Accuracy on Test Set: 0.8723\n",
      "Best Parameters: {'learning_rate': 0.1, 'max_depth': 3, 'n_estimators': 200}\n",
      "==================================================\n",
      "\n",
      "Best Model: LogisticRegression\n",
      "Best Model Parameters: {'C': 10, 'class_weight': None, 'dual': False, 'fit_intercept': True, 'intercept_scaling': 1, 'l1_ratio': None, 'max_iter': 1000, 'multi_class': 'auto', 'n_jobs': None, 'penalty': 'l2', 'random_state': None, 'solver': 'lbfgs', 'tol': 0.0001, 'verbose': 0, 'warm_start': False}\n"
     ]
    }
   ],
   "source": [
    "from sklearn.model_selection import GridSearchCV, train_test_split\n",
    "from sklearn.svm import SVC\n",
    "from sklearn.ensemble import RandomForestClassifier, GradientBoostingClassifier\n",
    "from xgboost import XGBClassifier\n",
    "from sklearn.linear_model import LogisticRegression\n",
    "from sklearn.metrics import accuracy_score\n",
    "\n",
    "# Veriyi ayırma\n",
    "X_train, X_test, y_train, y_test = train_test_split(X, y, test_size=0.2, random_state=42)\n",
    "\n",
    "# Modeller ve hiperparametre aralıkları\n",
    "models = {\n",
    "    'SVC': (SVC(), {'C': [0.1, 1, 10], 'kernel': ['linear', 'rbf'], 'degree': [2, 3, 4]}),\n",
    "    'RandomForest': (RandomForestClassifier(), {'n_estimators': [50, 100, 200], 'max_depth': [3, 5, 7]}),\n",
    "    'LogisticRegression': (LogisticRegression(), {'C': [0.1, 1, 10], 'max_iter': [1000]}),\n",
    "    'XGBoost': (XGBClassifier(use_label_encoder=False, eval_metric='logloss'), {'learning_rate': [0.1, 0.01], 'max_depth': [5, 8], 'n_estimators': [100, 200]}),\n",
    "    'GBM': (GradientBoostingClassifier(), {'n_estimators': [50, 100, 200], 'learning_rate': [0.01, 0.1, 0.2], 'max_depth': [3, 5, 7]}),\n",
    "}\n",
    "\n",
    "best_models = {}\n",
    "\n",
    "# Modeller üzerinde dönerek hiperparametre optimizasyonu yapma\n",
    "for model_name, (model, params) in models.items():\n",
    "    print(f\"Optimizing {model_name}...\")\n",
    "    \n",
    "    grid_search = GridSearchCV(model, params, cv=3, n_jobs=-1, verbose=1)\n",
    "    grid_search.fit(X_train, y_train)\n",
    "    \n",
    "    # En iyi modeli kaydet\n",
    "    best_models[model_name] = grid_search.best_estimator_\n",
    "    \n",
    "    # Test seti üzerinde doğruluk oranını hesapla\n",
    "    y_pred = grid_search.predict(X_test)\n",
    "    accuracy = accuracy_score(y_test, y_pred)\n",
    "    print(f\"{model_name} Accuracy on Test Set: {accuracy:.4f}\")\n",
    "    print(f\"Best Parameters: {grid_search.best_params_}\")\n",
    "    print(\"=\"*50)\n",
    "\n",
    "# En iyi modeli seçme\n",
    "best_model_name = max(best_models, key=lambda k: accuracy_score(y_test, best_models[k].predict(X_test)))\n",
    "best_model = best_models[best_model_name]\n",
    "\n",
    "print(f\"\\nBest Model: {best_model_name}\")\n",
    "print(f\"Best Model Parameters: {best_model.get_params()}\")\n"
   ]
  },
  {
   "cell_type": "code",
   "execution_count": 57,
   "metadata": {},
   "outputs": [],
   "source": [
    "data.to_csv(\"model_data\")"
   ]
  },
  {
   "cell_type": "markdown",
   "metadata": {},
   "source": [
    "########## SVC ##########\n",
    "accuracy (Before): 0.7905\n",
    "accuracy (After): 0.8\n",
    "SVC best params: {'C': 0.1, 'degree': 2, 'kernel': 'linear'}"
   ]
  },
  {
   "cell_type": "code",
   "execution_count": 58,
   "metadata": {},
   "outputs": [
    {
     "name": "stdout",
     "output_type": "stream",
     "text": [
      "Training Set Performance:\n",
      "Accuracy: 0.8641\n",
      "F1 Score (Macro): 0.8622\n",
      "\n",
      "Test Set Performance:\n",
      "Accuracy: 0.9149\n",
      "F1 Score (Macro): 0.9063\n"
     ]
    }
   ],
   "source": [
    "\n",
    "# Veriyi ayırma\n",
    "X_train_svc, X_test_svc, y_train_svc, y_test_svc = train_test_split(X, y, test_size=0.2, random_state=42)\n",
    "\n",
    "# SVC modelini oluşturma\n",
    "svc_params_weighted = {\n",
    "    \"C\": 0.1,\n",
    "    \"kernel\": \"linear\",\n",
    "    \"degree\": 2,\n",
    "   # Burada class_weight değerlerini belirt\n",
    "}\n",
    "\n",
    "svc_weighted = SVC(**svc_params_weighted)\n",
    "svc_weighted.fit(X_train_svc, y_train_svc)\n",
    "\n",
    "# Eğitim seti üzerinde performans değerlendirmesi\n",
    "y_train_pred = svc_weighted.predict(X_train_svc)\n",
    "accuracy_train = accuracy_score(y_train_svc, y_train_pred)\n",
    "f1_macro_train = f1_score(y_train_svc, y_train_pred, average='macro')\n",
    "\n",
    "print(\"Training Set Performance:\")\n",
    "print(f\"Accuracy: {accuracy_train:.4f}\")\n",
    "print(f\"F1 Score (Macro): {f1_macro_train:.4f}\")\n",
    "\n",
    "# Test seti üzerinde performans değerlendirmesi\n",
    "y_test_pred = svc_weighted.predict(X_test_svc)\n",
    "accuracy_test = accuracy_score(y_test_svc, y_test_pred)\n",
    "f1_macro_test = f1_score(y_test_svc, y_test_pred, average='macro')\n",
    "\n",
    "\n",
    "print(\"\\nTest Set Performance:\")\n",
    "print(f\"Accuracy: {accuracy_test:.4f}\")\n",
    "print(f\"F1 Score (Macro): {f1_macro_test:.4f}\")\n"
   ]
  },
  {
   "cell_type": "code",
   "execution_count": 59,
   "metadata": {},
   "outputs": [
    {
     "name": "stdout",
     "output_type": "stream",
     "text": [
      "Logistic Regression - Training Set Performance:\n",
      "Accuracy: 0.8587\n",
      "F1 Score (Macro): 0.8584\n",
      "\n",
      "Logistic Regression - Test Set Performance:\n",
      "Accuracy: 0.9362\n",
      "F1 Score (Macro): 0.9262\n"
     ]
    }
   ],
   "source": [
    "from sklearn.linear_model import LogisticRegression\n",
    "\n",
    "# Veriyi ayırma\n",
    "X_train_lr, X_test_lr, y_train_lr, y_test_lr = train_test_split(X, y, test_size=0.2, random_state=42)\n",
    "\n",
    "# Logistic Regression modelini oluşturma\n",
    "lr_params = {\n",
    "    \"C\": 0.1,\n",
    "    \"max_iter\": 1000,\n",
    "    \"class_weight\":{0:1,1:2,2:3}\n",
    "}\n",
    "\n",
    "lr_model = LogisticRegression(**lr_params)\n",
    "lr_model.fit(X_train_lr, y_train_lr)\n",
    "\n",
    "# Eğitim seti üzerinde performans değerlendirmesi\n",
    "y_train_lr_pred = lr_model.predict(X_train_lr)\n",
    "accuracy_train_lr = accuracy_score(y_train_lr, y_train_lr_pred)\n",
    "f1_macro_train_lr = f1_score(y_train_lr, y_train_lr_pred, average='macro')\n",
    "\n",
    "print(\"Logistic Regression - Training Set Performance:\")\n",
    "print(f\"Accuracy: {accuracy_train_lr:.4f}\")\n",
    "print(f\"F1 Score (Macro): {f1_macro_train_lr:.4f}\")\n",
    "\n",
    "# Test seti üzerinde performans değerlendirmesi\n",
    "y_test_lr_pred = lr_model.predict(X_test_lr)\n",
    "accuracy_test_lr = accuracy_score(y_test_lr, y_test_lr_pred)\n",
    "f1_macro_test_lr = f1_score(y_test_lr, y_test_lr_pred, average='macro')\n",
    "\n",
    "print(\"\\nLogistic Regression - Test Set Performance:\")\n",
    "print(f\"Accuracy: {accuracy_test_lr:.4f}\")\n",
    "print(f\"F1 Score (Macro): {f1_macro_test_lr:.4f}\")\n"
   ]
  },
  {
   "cell_type": "code",
   "execution_count": 60,
   "metadata": {},
   "outputs": [
    {
     "data": {
      "text/plain": [
       "['svc.pkl']"
      ]
     },
     "execution_count": 60,
     "metadata": {},
     "output_type": "execute_result"
    }
   ],
   "source": [
    "\n",
    "svc_params = {'C': 1, 'break_ties': False, 'cache_size': 200, 'class_weight': None, 'coef0': 0.0, 'decision_function_shape': 'ovr', 'degree': 2, 'gamma': 'scale', 'kernel': 'linear', 'max_iter': -1, 'probability': False, 'random_state': None, 'shrinking': True, 'tol': 0.001, 'verbose': False}\n",
    "\n",
    "# SVC modelini tanımla\n",
    "svc_model = SVC(**svc_params)\n",
    "\n",
    "# Modeli eğit\n",
    "svc_model.fit(X, y)\n",
    "\n",
    "joblib.dump(svc_model, 'svc.pkl') \n"
   ]
  },
  {
   "cell_type": "code",
   "execution_count": 61,
   "metadata": {},
   "outputs": [
    {
     "data": {
      "text/plain": [
       "['rf.pkl']"
      ]
     },
     "execution_count": 61,
     "metadata": {},
     "output_type": "execute_result"
    }
   ],
   "source": [
    "rf_model = RandomForestClassifier(max_depth=5, n_estimators=200, random_state=42)\n",
    "rf_model.fit(X,y)\n",
    "joblib.dump(rf_model, 'rf.pkl')"
   ]
  }
 ],
 "metadata": {
  "kernelspec": {
   "display_name": "base",
   "language": "python",
   "name": "python3"
  },
  "language_info": {
   "codemirror_mode": {
    "name": "ipython",
    "version": 3
   },
   "file_extension": ".py",
   "mimetype": "text/x-python",
   "name": "python",
   "nbconvert_exporter": "python",
   "pygments_lexer": "ipython3",
   "version": "3.11.5"
  }
 },
 "nbformat": 4,
 "nbformat_minor": 2
}
